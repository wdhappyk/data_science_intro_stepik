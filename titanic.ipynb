{
 "cells": [
  {
   "cell_type": "code",
   "execution_count": 1,
   "metadata": {
    "pycharm": {
     "name": "#%%\n"
    }
   },
   "outputs": [],
   "source": [
    "import pandas as pd\n",
    "import numpy as np"
   ]
  },
  {
   "cell_type": "code",
   "execution_count": 2,
   "metadata": {
    "pycharm": {
     "name": "#%%\n"
    }
   },
   "outputs": [],
   "source": [
    "import matplotlib.pyplot as plt\n",
    "import seaborn as sns\n",
    "%matplotlib inline"
   ]
  },
  {
   "cell_type": "code",
   "execution_count": 3,
   "outputs": [],
   "source": [
    "from sklearn import tree\n",
    "from sklearn.model_selection import train_test_split, cross_val_score"
   ],
   "metadata": {
    "collapsed": false,
    "pycharm": {
     "name": "#%%\n"
    }
   }
  },
  {
   "cell_type": "code",
   "execution_count": 4,
   "outputs": [],
   "source": [
    "sns.set(rc={'figure.figsize': (9, 6)})"
   ],
   "metadata": {
    "collapsed": false,
    "pycharm": {
     "name": "#%%\n"
    }
   }
  },
  {
   "cell_type": "code",
   "execution_count": 5,
   "outputs": [],
   "source": [
    "titanic_data = pd.read_csv('titanic/train.csv')"
   ],
   "metadata": {
    "collapsed": false,
    "pycharm": {
     "name": "#%%\n"
    }
   }
  },
  {
   "cell_type": "code",
   "execution_count": 6,
   "outputs": [
    {
     "data": {
      "text/plain": "   PassengerId  Survived  Pclass  \\\n0            1         0       3   \n1            2         1       1   \n2            3         1       3   \n3            4         1       1   \n4            5         0       3   \n\n                                                Name     Sex   Age  SibSp  \\\n0                            Braund, Mr. Owen Harris    male  22.0      1   \n1  Cumings, Mrs. John Bradley (Florence Briggs Th...  female  38.0      1   \n2                             Heikkinen, Miss. Laina  female  26.0      0   \n3       Futrelle, Mrs. Jacques Heath (Lily May Peel)  female  35.0      1   \n4                           Allen, Mr. William Henry    male  35.0      0   \n\n   Parch            Ticket     Fare Cabin Embarked  \n0      0         A/5 21171   7.2500   NaN        S  \n1      0          PC 17599  71.2833   C85        C  \n2      0  STON/O2. 3101282   7.9250   NaN        S  \n3      0            113803  53.1000  C123        S  \n4      0            373450   8.0500   NaN        S  ",
      "text/html": "<div>\n<style scoped>\n    .dataframe tbody tr th:only-of-type {\n        vertical-align: middle;\n    }\n\n    .dataframe tbody tr th {\n        vertical-align: top;\n    }\n\n    .dataframe thead th {\n        text-align: right;\n    }\n</style>\n<table border=\"1\" class=\"dataframe\">\n  <thead>\n    <tr style=\"text-align: right;\">\n      <th></th>\n      <th>PassengerId</th>\n      <th>Survived</th>\n      <th>Pclass</th>\n      <th>Name</th>\n      <th>Sex</th>\n      <th>Age</th>\n      <th>SibSp</th>\n      <th>Parch</th>\n      <th>Ticket</th>\n      <th>Fare</th>\n      <th>Cabin</th>\n      <th>Embarked</th>\n    </tr>\n  </thead>\n  <tbody>\n    <tr>\n      <th>0</th>\n      <td>1</td>\n      <td>0</td>\n      <td>3</td>\n      <td>Braund, Mr. Owen Harris</td>\n      <td>male</td>\n      <td>22.0</td>\n      <td>1</td>\n      <td>0</td>\n      <td>A/5 21171</td>\n      <td>7.2500</td>\n      <td>NaN</td>\n      <td>S</td>\n    </tr>\n    <tr>\n      <th>1</th>\n      <td>2</td>\n      <td>1</td>\n      <td>1</td>\n      <td>Cumings, Mrs. John Bradley (Florence Briggs Th...</td>\n      <td>female</td>\n      <td>38.0</td>\n      <td>1</td>\n      <td>0</td>\n      <td>PC 17599</td>\n      <td>71.2833</td>\n      <td>C85</td>\n      <td>C</td>\n    </tr>\n    <tr>\n      <th>2</th>\n      <td>3</td>\n      <td>1</td>\n      <td>3</td>\n      <td>Heikkinen, Miss. Laina</td>\n      <td>female</td>\n      <td>26.0</td>\n      <td>0</td>\n      <td>0</td>\n      <td>STON/O2. 3101282</td>\n      <td>7.9250</td>\n      <td>NaN</td>\n      <td>S</td>\n    </tr>\n    <tr>\n      <th>3</th>\n      <td>4</td>\n      <td>1</td>\n      <td>1</td>\n      <td>Futrelle, Mrs. Jacques Heath (Lily May Peel)</td>\n      <td>female</td>\n      <td>35.0</td>\n      <td>1</td>\n      <td>0</td>\n      <td>113803</td>\n      <td>53.1000</td>\n      <td>C123</td>\n      <td>S</td>\n    </tr>\n    <tr>\n      <th>4</th>\n      <td>5</td>\n      <td>0</td>\n      <td>3</td>\n      <td>Allen, Mr. William Henry</td>\n      <td>male</td>\n      <td>35.0</td>\n      <td>0</td>\n      <td>0</td>\n      <td>373450</td>\n      <td>8.0500</td>\n      <td>NaN</td>\n      <td>S</td>\n    </tr>\n  </tbody>\n</table>\n</div>"
     },
     "execution_count": 6,
     "metadata": {},
     "output_type": "execute_result"
    }
   ],
   "source": [
    "titanic_data.head()"
   ],
   "metadata": {
    "collapsed": false,
    "pycharm": {
     "name": "#%%\n"
    }
   }
  },
  {
   "cell_type": "code",
   "execution_count": 7,
   "outputs": [
    {
     "data": {
      "text/plain": "PassengerId      0\nSurvived         0\nPclass           0\nName             0\nSex              0\nAge            177\nSibSp            0\nParch            0\nTicket           0\nFare             0\nCabin          687\nEmbarked         2\ndtype: int64"
     },
     "execution_count": 7,
     "metadata": {},
     "output_type": "execute_result"
    }
   ],
   "source": [
    "titanic_data.isnull().sum()"
   ],
   "metadata": {
    "collapsed": false,
    "pycharm": {
     "name": "#%%\n"
    }
   }
  },
  {
   "cell_type": "code",
   "execution_count": 8,
   "outputs": [],
   "source": [
    "X = titanic_data.drop(['PassengerId', 'Survived', 'Name', 'Ticket', 'Cabin'], axis=1)\n",
    "y = titanic_data.Survived"
   ],
   "metadata": {
    "collapsed": false,
    "pycharm": {
     "name": "#%%\n"
    }
   }
  },
  {
   "cell_type": "code",
   "execution_count": 9,
   "outputs": [],
   "source": [
    "X = pd.get_dummies(X)"
   ],
   "metadata": {
    "collapsed": false,
    "pycharm": {
     "name": "#%%\n"
    }
   }
  },
  {
   "cell_type": "code",
   "execution_count": 10,
   "outputs": [],
   "source": [
    "X = X.fillna({'Age': X.Age.median()})"
   ],
   "metadata": {
    "collapsed": false,
    "pycharm": {
     "name": "#%%\n"
    }
   }
  },
  {
   "cell_type": "code",
   "execution_count": 11,
   "outputs": [],
   "source": [
    "clf = tree.DecisionTreeClassifier(criterion='entropy')"
   ],
   "metadata": {
    "collapsed": false,
    "pycharm": {
     "name": "#%%\n"
    }
   }
  },
  {
   "cell_type": "code",
   "execution_count": 12,
   "outputs": [
    {
     "data": {
      "text/plain": "DecisionTreeClassifier(criterion='entropy')"
     },
     "execution_count": 12,
     "metadata": {},
     "output_type": "execute_result"
    }
   ],
   "source": [
    "clf.fit(X, y)"
   ],
   "metadata": {
    "collapsed": false,
    "pycharm": {
     "name": "#%%\n"
    }
   }
  },
  {
   "cell_type": "code",
   "execution_count": 13,
   "outputs": [],
   "source": [
    "X_train, X_test, y_train, y_test = train_test_split(X, y, test_size=0.33, random_state=42)"
   ],
   "metadata": {
    "collapsed": false,
    "pycharm": {
     "name": "#%%\n"
    }
   }
  },
  {
   "cell_type": "code",
   "execution_count": 14,
   "outputs": [
    {
     "data": {
      "text/plain": "DecisionTreeClassifier(criterion='entropy')"
     },
     "execution_count": 14,
     "metadata": {},
     "output_type": "execute_result"
    }
   ],
   "source": [
    "clf.fit(X_train, y_train)"
   ],
   "metadata": {
    "collapsed": false,
    "pycharm": {
     "name": "#%%\n"
    }
   }
  },
  {
   "cell_type": "code",
   "execution_count": 15,
   "outputs": [
    {
     "data": {
      "text/plain": "0.7796610169491526"
     },
     "execution_count": 15,
     "metadata": {},
     "output_type": "execute_result"
    }
   ],
   "source": [
    "clf.score(X_test, y_test)"
   ],
   "metadata": {
    "collapsed": false,
    "pycharm": {
     "name": "#%%\n"
    }
   }
  },
  {
   "cell_type": "code",
   "execution_count": 16,
   "outputs": [],
   "source": [
    "clf = tree.DecisionTreeClassifier(criterion='entropy', max_depth=5)"
   ],
   "metadata": {
    "collapsed": false,
    "pycharm": {
     "name": "#%%\n"
    }
   }
  },
  {
   "cell_type": "code",
   "execution_count": 17,
   "outputs": [
    {
     "data": {
      "text/plain": "DecisionTreeClassifier(criterion='entropy', max_depth=5)"
     },
     "execution_count": 17,
     "metadata": {},
     "output_type": "execute_result"
    }
   ],
   "source": [
    "clf.fit(X_train, y_train)"
   ],
   "metadata": {
    "collapsed": false,
    "pycharm": {
     "name": "#%%\n"
    }
   }
  },
  {
   "cell_type": "code",
   "execution_count": 18,
   "outputs": [
    {
     "data": {
      "text/plain": "0.8067796610169492"
     },
     "execution_count": 18,
     "metadata": {},
     "output_type": "execute_result"
    }
   ],
   "source": [
    "clf.score(X_test, y_test)"
   ],
   "metadata": {
    "collapsed": false,
    "pycharm": {
     "name": "#%%\n"
    }
   }
  },
  {
   "cell_type": "code",
   "execution_count": 19,
   "outputs": [],
   "source": [
    "max_depth_values = range(1, 100)"
   ],
   "metadata": {
    "collapsed": false,
    "pycharm": {
     "name": "#%%\n"
    }
   }
  },
  {
   "cell_type": "code",
   "execution_count": 33,
   "outputs": [],
   "source": [
    "scores = pd.DataFrame()"
   ],
   "metadata": {
    "collapsed": false,
    "pycharm": {
     "name": "#%%\n"
    }
   }
  },
  {
   "cell_type": "code",
   "execution_count": 34,
   "outputs": [],
   "source": [
    "for max_depth in max_depth_values:\n",
    "    clf = tree.DecisionTreeClassifier(criterion='entropy', max_depth=max_depth)\n",
    "    clf.fit(X_train, y_train)\n",
    "    train_score = clf.score(X_train, y_train)\n",
    "    test_score = clf.score(X_test, y_test)\n",
    "    mean_cross_val_score = cross_val_score(clf, X_train, y_train, cv=5).mean()\n",
    "    scores = pd.concat([\n",
    "        scores,\n",
    "        pd.DataFrame({\n",
    "            'max_depth': [max_depth],\n",
    "            'train_score': [train_score],\n",
    "            'test_score': [test_score],\n",
    "            'cross_val_score': [mean_cross_val_score]\n",
    "        }),\n",
    "    ], ignore_index=True)"
   ],
   "metadata": {
    "collapsed": false,
    "pycharm": {
     "name": "#%%\n"
    }
   }
  },
  {
   "cell_type": "code",
   "execution_count": 35,
   "outputs": [
    {
     "data": {
      "text/plain": "   max_depth  train_score  test_score  cross_val_score\n0          1     0.781879    0.796610         0.781961\n1          2     0.805369    0.776271         0.770196\n2          3     0.823826    0.820339         0.790322\n3          4     0.833893    0.823729         0.788627\n4          5     0.840604    0.806780         0.802073",
      "text/html": "<div>\n<style scoped>\n    .dataframe tbody tr th:only-of-type {\n        vertical-align: middle;\n    }\n\n    .dataframe tbody tr th {\n        vertical-align: top;\n    }\n\n    .dataframe thead th {\n        text-align: right;\n    }\n</style>\n<table border=\"1\" class=\"dataframe\">\n  <thead>\n    <tr style=\"text-align: right;\">\n      <th></th>\n      <th>max_depth</th>\n      <th>train_score</th>\n      <th>test_score</th>\n      <th>cross_val_score</th>\n    </tr>\n  </thead>\n  <tbody>\n    <tr>\n      <th>0</th>\n      <td>1</td>\n      <td>0.781879</td>\n      <td>0.796610</td>\n      <td>0.781961</td>\n    </tr>\n    <tr>\n      <th>1</th>\n      <td>2</td>\n      <td>0.805369</td>\n      <td>0.776271</td>\n      <td>0.770196</td>\n    </tr>\n    <tr>\n      <th>2</th>\n      <td>3</td>\n      <td>0.823826</td>\n      <td>0.820339</td>\n      <td>0.790322</td>\n    </tr>\n    <tr>\n      <th>3</th>\n      <td>4</td>\n      <td>0.833893</td>\n      <td>0.823729</td>\n      <td>0.788627</td>\n    </tr>\n    <tr>\n      <th>4</th>\n      <td>5</td>\n      <td>0.840604</td>\n      <td>0.806780</td>\n      <td>0.802073</td>\n    </tr>\n  </tbody>\n</table>\n</div>"
     },
     "execution_count": 35,
     "metadata": {},
     "output_type": "execute_result"
    }
   ],
   "source": [
    "scores.head()"
   ],
   "metadata": {
    "collapsed": false,
    "pycharm": {
     "name": "#%%\n"
    }
   }
  },
  {
   "cell_type": "code",
   "execution_count": 40,
   "outputs": [],
   "source": [
    "scores_data_long = pd.melt(scores,\n",
    "        id_vars=['max_depth'],\n",
    "        value_vars=['train_score', 'test_score', 'cross_val_score'],\n",
    "        var_name='set_type',\n",
    "        value_name='score'\n",
    "        )"
   ],
   "metadata": {
    "collapsed": false,
    "pycharm": {
     "name": "#%%\n"
    }
   }
  },
  {
   "cell_type": "code",
   "execution_count": 43,
   "outputs": [
    {
     "data": {
      "text/plain": "   max_depth     set_type     score\n0          1  train_score  0.781879\n1          2  train_score  0.805369\n2          3  train_score  0.823826\n3          4  train_score  0.833893\n4          5  train_score  0.840604",
      "text/html": "<div>\n<style scoped>\n    .dataframe tbody tr th:only-of-type {\n        vertical-align: middle;\n    }\n\n    .dataframe tbody tr th {\n        vertical-align: top;\n    }\n\n    .dataframe thead th {\n        text-align: right;\n    }\n</style>\n<table border=\"1\" class=\"dataframe\">\n  <thead>\n    <tr style=\"text-align: right;\">\n      <th></th>\n      <th>max_depth</th>\n      <th>set_type</th>\n      <th>score</th>\n    </tr>\n  </thead>\n  <tbody>\n    <tr>\n      <th>0</th>\n      <td>1</td>\n      <td>train_score</td>\n      <td>0.781879</td>\n    </tr>\n    <tr>\n      <th>1</th>\n      <td>2</td>\n      <td>train_score</td>\n      <td>0.805369</td>\n    </tr>\n    <tr>\n      <th>2</th>\n      <td>3</td>\n      <td>train_score</td>\n      <td>0.823826</td>\n    </tr>\n    <tr>\n      <th>3</th>\n      <td>4</td>\n      <td>train_score</td>\n      <td>0.833893</td>\n    </tr>\n    <tr>\n      <th>4</th>\n      <td>5</td>\n      <td>train_score</td>\n      <td>0.840604</td>\n    </tr>\n  </tbody>\n</table>\n</div>"
     },
     "execution_count": 43,
     "metadata": {},
     "output_type": "execute_result"
    }
   ],
   "source": [
    "scores_data_long.head()"
   ],
   "metadata": {
    "collapsed": false,
    "pycharm": {
     "name": "#%%\n"
    }
   }
  },
  {
   "cell_type": "code",
   "execution_count": 44,
   "outputs": [
    {
     "data": {
      "text/plain": "<AxesSubplot:xlabel='max_depth', ylabel='score'>"
     },
     "execution_count": 44,
     "metadata": {},
     "output_type": "execute_result"
    },
    {
     "data": {
      "text/plain": "<Figure size 648x432 with 1 Axes>",
      "image/png": "[encoded data removed]"
     },
     "metadata": {},
     "output_type": "display_data"
    }
   ],
   "source": [
    "sns.lineplot(data=scores_data_long, x='max_depth', y='score', hue='set_type')"
   ],
   "metadata": {
    "collapsed": false,
    "pycharm": {
     "name": "#%%\n"
    }
   }
  },
  {
   "cell_type": "code",
   "execution_count": 45,
   "outputs": [
    {
     "data": {
      "text/plain": "     max_depth         set_type     score\n198          1  cross_val_score  0.781961\n199          2  cross_val_score  0.770196\n200          3  cross_val_score  0.790322\n201          4  cross_val_score  0.788627\n202          5  cross_val_score  0.802073\n203          6  cross_val_score  0.802073\n204          7  cross_val_score  0.802059\n205          8  cross_val_score  0.800364\n206          9  cross_val_score  0.795308\n207         10  cross_val_score  0.796989\n208         11  cross_val_score  0.802031\n209         12  cross_val_score  0.802059\n210         13  cross_val_score  0.791947\n211         14  cross_val_score  0.791961\n212         15  cross_val_score  0.786947\n213         16  cross_val_score  0.790322\n214         17  cross_val_score  0.781905\n215         18  cross_val_score  0.773529\n216         19  cross_val_score  0.773529\n217         20  cross_val_score  0.771863",
      "text/html": "<div>\n<style scoped>\n    .dataframe tbody tr th:only-of-type {\n        vertical-align: middle;\n    }\n\n    .dataframe tbody tr th {\n        vertical-align: top;\n    }\n\n    .dataframe thead th {\n        text-align: right;\n    }\n</style>\n<table border=\"1\" class=\"dataframe\">\n  <thead>\n    <tr style=\"text-align: right;\">\n      <th></th>\n      <th>max_depth</th>\n      <th>set_type</th>\n      <th>score</th>\n    </tr>\n  </thead>\n  <tbody>\n    <tr>\n      <th>198</th>\n      <td>1</td>\n      <td>cross_val_score</td>\n      <td>0.781961</td>\n    </tr>\n    <tr>\n      <th>199</th>\n      <td>2</td>\n      <td>cross_val_score</td>\n      <td>0.770196</td>\n    </tr>\n    <tr>\n      <th>200</th>\n      <td>3</td>\n      <td>cross_val_score</td>\n      <td>0.790322</td>\n    </tr>\n    <tr>\n      <th>201</th>\n      <td>4</td>\n      <td>cross_val_score</td>\n      <td>0.788627</td>\n    </tr>\n    <tr>\n      <th>202</th>\n      <td>5</td>\n      <td>cross_val_score</td>\n      <td>0.802073</td>\n    </tr>\n    <tr>\n      <th>203</th>\n      <td>6</td>\n      <td>cross_val_score</td>\n      <td>0.802073</td>\n    </tr>\n    <tr>\n      <th>204</th>\n      <td>7</td>\n      <td>cross_val_score</td>\n      <td>0.802059</td>\n    </tr>\n    <tr>\n      <th>205</th>\n      <td>8</td>\n      <td>cross_val_score</td>\n      <td>0.800364</td>\n    </tr>\n    <tr>\n      <th>206</th>\n      <td>9</td>\n      <td>cross_val_score</td>\n      <td>0.795308</td>\n    </tr>\n    <tr>\n      <th>207</th>\n      <td>10</td>\n      <td>cross_val_score</td>\n      <td>0.796989</td>\n    </tr>\n    <tr>\n      <th>208</th>\n      <td>11</td>\n      <td>cross_val_score</td>\n      <td>0.802031</td>\n    </tr>\n    <tr>\n      <th>209</th>\n      <td>12</td>\n      <td>cross_val_score</td>\n      <td>0.802059</td>\n    </tr>\n    <tr>\n      <th>210</th>\n      <td>13</td>\n      <td>cross_val_score</td>\n      <td>0.791947</td>\n    </tr>\n    <tr>\n      <th>211</th>\n      <td>14</td>\n      <td>cross_val_score</td>\n      <td>0.791961</td>\n    </tr>\n    <tr>\n      <th>212</th>\n      <td>15</td>\n      <td>cross_val_score</td>\n      <td>0.786947</td>\n    </tr>\n    <tr>\n      <th>213</th>\n      <td>16</td>\n      <td>cross_val_score</td>\n      <td>0.790322</td>\n    </tr>\n    <tr>\n      <th>214</th>\n      <td>17</td>\n      <td>cross_val_score</td>\n      <td>0.781905</td>\n    </tr>\n    <tr>\n      <th>215</th>\n      <td>18</td>\n      <td>cross_val_score</td>\n      <td>0.773529</td>\n    </tr>\n    <tr>\n      <th>216</th>\n      <td>19</td>\n      <td>cross_val_score</td>\n      <td>0.773529</td>\n    </tr>\n    <tr>\n      <th>217</th>\n      <td>20</td>\n      <td>cross_val_score</td>\n      <td>0.771863</td>\n    </tr>\n  </tbody>\n</table>\n</div>"
     },
     "execution_count": 45,
     "metadata": {},
     "output_type": "execute_result"
    }
   ],
   "source": [
    "scores_data_long.query('set_type == \"cross_val_score\"').head(20)"
   ],
   "metadata": {
    "collapsed": false,
    "pycharm": {
     "name": "#%%\n"
    }
   }
  },
  {
   "cell_type": "code",
   "execution_count": 48,
   "outputs": [],
   "source": [
    "best_clf = tree.DecisionTreeClassifier(criterion='entropy', max_depth=10)"
   ],
   "metadata": {
    "collapsed": false,
    "pycharm": {
     "name": "#%%\n"
    }
   }
  },
  {
   "cell_type": "code",
   "execution_count": 49,
   "outputs": [
    {
     "data": {
      "text/plain": "0.7932203389830509"
     },
     "execution_count": 49,
     "metadata": {},
     "output_type": "execute_result"
    }
   ],
   "source": [
    "cross_val_score(clf, X_test, y_test, cv=5).mean()"
   ],
   "metadata": {
    "collapsed": false,
    "pycharm": {
     "name": "#%%\n"
    }
   }
  },
  {
   "cell_type": "code",
   "execution_count": null,
   "outputs": [],
   "source": [],
   "metadata": {
    "collapsed": false,
    "pycharm": {
     "name": "#%%\n"
    }
   }
  },
  {
   "cell_type": "code",
   "execution_count": 33,
   "metadata": {
    "pycharm": {
     "name": "#%%\n"
    }
   },
   "outputs": [],
   "source": [
    "X = titanic_data.drop(['PassengerId', 'Survived', 'Name', 'Ticket', 'Cabin'], axis=1)\n",
    "y = titanic_data.Survived"
   ]
  },
  {
   "cell_type": "code",
   "execution_count": 34,
   "metadata": {
    "pycharm": {
     "name": "#%%\n"
    }
   },
   "outputs": [],
   "source": [
    "X = pd.get_dummies(X)"
   ]
  },
  {
   "cell_type": "code",
   "execution_count": 35,
   "metadata": {
    "pycharm": {
     "name": "#%%\n"
    }
   },
   "outputs": [],
   "source": [
    "X = X.fillna({'Age': X.Age.median()})"
   ]
  },
  {
   "cell_type": "code",
   "execution_count": 36,
   "metadata": {
    "pycharm": {
     "name": "#%%\n"
    }
   },
   "outputs": [],
   "source": [
    "clf = tree.DecisionTreeClassifier(criterion='entropy')"
   ]
  },
  {
   "cell_type": "code",
   "execution_count": 37,
   "metadata": {
    "pycharm": {
     "name": "#%%\n"
    }
   },
   "outputs": [
    {
     "data": {
      "text/plain": [
       "DecisionTreeClassifier(criterion='entropy')"
      ]
     },
     "execution_count": 37,
     "metadata": {},
     "output_type": "execute_result"
    }
   ],
   "source": [
    "clf.fit(X, y)"
   ]
  },
  {
   "cell_type": "code",
   "execution_count": 38,
   "metadata": {
    "pycharm": {
     "name": "#%%\n"
    }
   },
   "outputs": [
    {
     "data": {
      "text/plain": [
       "[Text(144.2400418526786, 212.004, 'X[6] <= 0.5\\nentropy = 0.961\\nsamples = 891\\nvalue = [549, 342]'),\n",
       " Text(54.03133928571429, 201.132, 'X[0] <= 2.5\\nentropy = 0.824\\nsamples = 314\\nvalue = [81, 233]'),\n",
       " Text(20.327142857142857, 190.26, 'X[4] <= 28.856\\nentropy = 0.299\\nsamples = 170\\nvalue = [9, 161]'),\n",
       " Text(15.544285714285714, 179.388, 'X[4] <= 28.231\\nentropy = 0.469\\nsamples = 70\\nvalue = [7, 63]'),\n",
       " Text(13.152857142857144, 168.516, 'X[1] <= 23.5\\nentropy = 0.426\\nsamples = 69\\nvalue = [6, 63]'),\n",
       " Text(10.76142857142857, 157.644, 'entropy = 0.0\\nsamples = 15\\nvalue = [0, 15]'),\n",
       " Text(15.544285714285714, 157.644, 'X[1] <= 27.5\\nentropy = 0.503\\nsamples = 54\\nvalue = [6, 48]'),\n",
       " Text(9.565714285714286, 146.772, 'X[1] <= 25.5\\nentropy = 0.845\\nsamples = 11\\nvalue = [3, 8]'),\n",
       " Text(4.782857142857143, 135.9, 'X[4] <= 13.75\\nentropy = 0.592\\nsamples = 7\\nvalue = [1, 6]'),\n",
       " Text(2.3914285714285715, 125.02799999999999, 'entropy = 1.0\\nsamples = 2\\nvalue = [1, 1]'),\n",
       " Text(7.174285714285714, 125.02799999999999, 'entropy = 0.0\\nsamples = 5\\nvalue = [0, 5]'),\n",
       " Text(14.348571428571429, 135.9, 'X[4] <= 17.429\\nentropy = 1.0\\nsamples = 4\\nvalue = [2, 2]'),\n",
       " Text(11.957142857142857, 125.02799999999999, 'entropy = 0.0\\nsamples = 2\\nvalue = [0, 2]'),\n",
       " Text(16.740000000000002, 125.02799999999999, 'entropy = 0.0\\nsamples = 2\\nvalue = [2, 0]'),\n",
       " Text(21.52285714285714, 146.772, 'X[1] <= 37.0\\nentropy = 0.365\\nsamples = 43\\nvalue = [3, 40]'),\n",
       " Text(19.13142857142857, 135.9, 'entropy = 0.0\\nsamples = 24\\nvalue = [0, 24]'),\n",
       " Text(23.914285714285715, 135.9, 'X[1] <= 39.0\\nentropy = 0.629\\nsamples = 19\\nvalue = [3, 16]'),\n",
       " Text(21.52285714285714, 125.02799999999999, 'entropy = 0.0\\nsamples = 1\\nvalue = [1, 0]'),\n",
       " Text(26.305714285714288, 125.02799999999999, 'X[1] <= 56.0\\nentropy = 0.503\\nsamples = 18\\nvalue = [2, 16]'),\n",
       " Text(21.52285714285714, 114.156, 'X[2] <= 0.5\\nentropy = 0.337\\nsamples = 16\\nvalue = [1, 15]'),\n",
       " Text(19.13142857142857, 103.28399999999999, 'entropy = 0.0\\nsamples = 12\\nvalue = [0, 12]'),\n",
       " Text(23.914285714285715, 103.28399999999999, 'X[1] <= 44.5\\nentropy = 0.811\\nsamples = 4\\nvalue = [1, 3]'),\n",
       " Text(21.52285714285714, 92.412, 'X[1] <= 43.0\\nentropy = 1.0\\nsamples = 2\\nvalue = [1, 1]'),\n",
       " Text(19.13142857142857, 81.53999999999999, 'entropy = 0.0\\nsamples = 1\\nvalue = [0, 1]'),\n",
       " Text(23.914285714285715, 81.53999999999999, 'entropy = 0.0\\nsamples = 1\\nvalue = [1, 0]'),\n",
       " Text(26.305714285714288, 92.412, 'entropy = 0.0\\nsamples = 2\\nvalue = [0, 2]'),\n",
       " Text(31.088571428571427, 114.156, 'X[0] <= 1.5\\nentropy = 1.0\\nsamples = 2\\nvalue = [1, 1]'),\n",
       " Text(28.697142857142858, 103.28399999999999, 'entropy = 0.0\\nsamples = 1\\nvalue = [0, 1]'),\n",
       " Text(33.480000000000004, 103.28399999999999, 'entropy = 0.0\\nsamples = 1\\nvalue = [1, 0]'),\n",
       " Text(17.935714285714287, 168.516, 'entropy = 0.0\\nsamples = 1\\nvalue = [1, 0]'),\n",
       " Text(25.11, 179.388, 'X[1] <= 2.5\\nentropy = 0.141\\nsamples = 100\\nvalue = [2, 98]'),\n",
       " Text(22.71857142857143, 168.516, 'entropy = 0.0\\nsamples = 1\\nvalue = [1, 0]'),\n",
       " Text(27.501428571428573, 168.516, 'X[3] <= 1.5\\nentropy = 0.081\\nsamples = 99\\nvalue = [1, 98]'),\n",
       " Text(25.11, 157.644, 'entropy = 0.0\\nsamples = 84\\nvalue = [0, 84]'),\n",
       " Text(29.892857142857142, 157.644, 'X[1] <= 24.5\\nentropy = 0.353\\nsamples = 15\\nvalue = [1, 14]'),\n",
       " Text(27.501428571428573, 146.772, 'entropy = 0.0\\nsamples = 10\\nvalue = [0, 10]'),\n",
       " Text(32.284285714285716, 146.772, 'X[1] <= 28.0\\nentropy = 0.722\\nsamples = 5\\nvalue = [1, 4]'),\n",
       " Text(29.892857142857142, 135.9, 'entropy = 0.0\\nsamples = 1\\nvalue = [1, 0]'),\n",
       " Text(34.675714285714285, 135.9, 'entropy = 0.0\\nsamples = 4\\nvalue = [0, 4]'),\n",
       " Text(87.73553571428572, 190.26, 'X[4] <= 23.35\\nentropy = 1.0\\nsamples = 144\\nvalue = [72, 72]'),\n",
       " Text(78.61821428571429, 179.388, 'X[1] <= 36.5\\nentropy = 0.977\\nsamples = 117\\nvalue = [48, 69]'),\n",
       " Text(67.55785714285715, 168.516, 'X[9] <= 0.5\\nentropy = 0.959\\nsamples = 110\\nvalue = [42, 68]'),\n",
       " Text(52.611428571428576, 157.644, 'X[4] <= 15.621\\nentropy = 0.86\\nsamples = 53\\nvalue = [15, 38]'),\n",
       " Text(50.22, 146.772, 'X[4] <= 13.935\\nentropy = 0.918\\nsamples = 45\\nvalue = [15, 30]'),\n",
       " Text(39.45857142857143, 135.9, 'X[1] <= 17.0\\nentropy = 0.758\\nsamples = 32\\nvalue = [7, 25]'),\n",
       " Text(37.067142857142855, 125.02799999999999, 'entropy = 0.0\\nsamples = 7\\nvalue = [0, 7]'),\n",
       " Text(41.85, 125.02799999999999, 'X[1] <= 18.5\\nentropy = 0.855\\nsamples = 25\\nvalue = [7, 18]'),\n",
       " Text(39.45857142857143, 114.156, 'entropy = 0.0\\nsamples = 1\\nvalue = [1, 0]'),\n",
       " Text(44.24142857142857, 114.156, 'X[3] <= 1.0\\nentropy = 0.811\\nsamples = 24\\nvalue = [6, 18]'),\n",
       " Text(41.85, 103.28399999999999, 'X[1] <= 29.25\\nentropy = 0.755\\nsamples = 23\\nvalue = [5, 18]'),\n",
       " Text(39.45857142857143, 92.412, 'X[4] <= 8.008\\nentropy = 0.684\\nsamples = 22\\nvalue = [4, 18]'),\n",
       " Text(37.067142857142855, 81.53999999999999, 'X[4] <= 7.769\\nentropy = 0.592\\nsamples = 21\\nvalue = [3, 18]'),\n",
       " Text(34.675714285714285, 70.668, 'X[1] <= 21.5\\nentropy = 0.722\\nsamples = 15\\nvalue = [3, 12]'),\n",
       " Text(32.284285714285716, 59.79599999999999, 'entropy = 0.0\\nsamples = 1\\nvalue = [1, 0]'),\n",
       " Text(37.067142857142855, 59.79599999999999, 'X[4] <= 7.681\\nentropy = 0.592\\nsamples = 14\\nvalue = [2, 12]'),\n",
       " Text(32.284285714285716, 48.92400000000001, 'X[4] <= 7.429\\nentropy = 0.918\\nsamples = 3\\nvalue = [1, 2]'),\n",
       " Text(29.892857142857142, 38.05199999999999, 'entropy = 0.0\\nsamples = 2\\nvalue = [0, 2]'),\n",
       " Text(34.675714285714285, 38.05199999999999, 'entropy = 0.0\\nsamples = 1\\nvalue = [1, 0]'),\n",
       " Text(41.85, 48.92400000000001, 'X[4] <= 7.744\\nentropy = 0.439\\nsamples = 11\\nvalue = [1, 10]'),\n",
       " Text(39.45857142857143, 38.05199999999999, 'entropy = 0.0\\nsamples = 2\\nvalue = [0, 2]'),\n",
       " Text(44.24142857142857, 38.05199999999999, 'X[1] <= 25.0\\nentropy = 0.503\\nsamples = 9\\nvalue = [1, 8]'),\n",
       " Text(41.85, 27.180000000000007, 'entropy = 0.0\\nsamples = 1\\nvalue = [0, 1]'),\n",
       " Text(46.63285714285714, 27.180000000000007, 'entropy = 0.544\\nsamples = 8\\nvalue = [1, 7]'),\n",
       " Text(39.45857142857143, 70.668, 'entropy = 0.0\\nsamples = 6\\nvalue = [0, 6]'),\n",
       " Text(41.85, 81.53999999999999, 'entropy = 0.0\\nsamples = 1\\nvalue = [1, 0]'),\n",
       " Text(44.24142857142857, 92.412, 'entropy = 0.0\\nsamples = 1\\nvalue = [1, 0]'),\n",
       " Text(46.63285714285714, 103.28399999999999, 'entropy = 0.0\\nsamples = 1\\nvalue = [1, 0]'),\n",
       " Text(60.98142857142857, 135.9, 'X[8] <= 0.5\\nentropy = 0.961\\nsamples = 13\\nvalue = [8, 5]'),\n",
       " Text(56.19857142857143, 125.02799999999999, 'X[1] <= 28.5\\nentropy = 0.764\\nsamples = 9\\nvalue = [7, 2]'),\n",
       " Text(53.80714285714286, 114.156, 'X[1] <= 16.0\\nentropy = 0.544\\nsamples = 8\\nvalue = [7, 1]'),\n",
       " Text(51.41571428571429, 103.28399999999999, 'X[1] <= 14.75\\nentropy = 0.918\\nsamples = 3\\nvalue = [2, 1]'),\n",
       " Text(49.02428571428572, 92.412, 'entropy = 0.0\\nsamples = 2\\nvalue = [2, 0]'),\n",
       " Text(53.80714285714286, 92.412, 'entropy = 0.0\\nsamples = 1\\nvalue = [0, 1]'),\n",
       " Text(56.19857142857143, 103.28399999999999, 'entropy = 0.0\\nsamples = 5\\nvalue = [5, 0]'),\n",
       " Text(58.59, 114.156, 'entropy = 0.0\\nsamples = 1\\nvalue = [0, 1]'),\n",
       " Text(65.76428571428572, 125.02799999999999, 'X[3] <= 0.5\\nentropy = 0.811\\nsamples = 4\\nvalue = [1, 3]'),\n",
       " Text(63.37285714285714, 114.156, 'entropy = 0.0\\nsamples = 3\\nvalue = [0, 3]'),\n",
       " Text(68.15571428571428, 114.156, 'entropy = 0.0\\nsamples = 1\\nvalue = [1, 0]'),\n",
       " Text(55.002857142857145, 146.772, 'entropy = 0.0\\nsamples = 8\\nvalue = [0, 8]'),\n",
       " Text(82.50428571428571, 157.644, 'X[1] <= 32.0\\nentropy = 0.998\\nsamples = 57\\nvalue = [27, 30]'),\n",
       " Text(80.11285714285714, 146.772, 'X[4] <= 7.763\\nentropy = 1.0\\nsamples = 54\\nvalue = [27, 27]'),\n",
       " Text(72.93857142857144, 135.9, 'X[1] <= 25.5\\nentropy = 0.65\\nsamples = 6\\nvalue = [1, 5]'),\n",
       " Text(70.54714285714286, 125.02799999999999, 'entropy = 0.0\\nsamples = 5\\nvalue = [0, 5]'),\n",
       " Text(75.33, 125.02799999999999, 'entropy = 0.0\\nsamples = 1\\nvalue = [1, 0]'),\n",
       " Text(87.28714285714285, 135.9, 'X[4] <= 10.825\\nentropy = 0.995\\nsamples = 48\\nvalue = [26, 22]'),\n",
       " Text(80.11285714285714, 125.02799999999999, 'X[4] <= 10.152\\nentropy = 0.918\\nsamples = 27\\nvalue = [18, 9]'),\n",
       " Text(77.72142857142858, 114.156, 'X[3] <= 0.5\\nentropy = 0.954\\nsamples = 24\\nvalue = [15, 9]'),\n",
       " Text(75.33, 103.28399999999999, 'X[4] <= 9.84\\nentropy = 0.902\\nsamples = 22\\nvalue = [15, 7]'),\n",
       " Text(72.93857142857144, 92.412, 'X[4] <= 8.767\\nentropy = 0.863\\nsamples = 21\\nvalue = [15, 6]'),\n",
       " Text(70.54714285714286, 81.53999999999999, 'X[4] <= 8.673\\nentropy = 0.937\\nsamples = 17\\nvalue = [11, 6]'),\n",
       " Text(68.15571428571428, 70.668, 'X[1] <= 27.5\\nentropy = 0.896\\nsamples = 16\\nvalue = [11, 5]'),\n",
       " Text(65.76428571428572, 59.79599999999999, 'X[1] <= 25.5\\nentropy = 0.994\\nsamples = 11\\nvalue = [6, 5]'),\n",
       " Text(63.37285714285714, 48.92400000000001, 'X[4] <= 7.89\\nentropy = 0.811\\nsamples = 8\\nvalue = [6, 2]'),\n",
       " Text(60.98142857142857, 38.05199999999999, 'X[1] <= 18.5\\nentropy = 0.971\\nsamples = 5\\nvalue = [3, 2]'),\n",
       " Text(58.59, 27.180000000000007, 'entropy = 0.0\\nsamples = 2\\nvalue = [2, 0]'),\n",
       " Text(63.37285714285714, 27.180000000000007, 'X[1] <= 23.5\\nentropy = 0.918\\nsamples = 3\\nvalue = [1, 2]'),\n",
       " Text(60.98142857142857, 16.307999999999993, 'entropy = 0.0\\nsamples = 2\\nvalue = [0, 2]'),\n",
       " Text(65.76428571428572, 16.307999999999993, 'entropy = 0.0\\nsamples = 1\\nvalue = [1, 0]'),\n",
       " Text(65.76428571428572, 38.05199999999999, 'entropy = 0.0\\nsamples = 3\\nvalue = [3, 0]'),\n",
       " Text(68.15571428571428, 48.92400000000001, 'entropy = 0.0\\nsamples = 3\\nvalue = [0, 3]'),\n",
       " Text(70.54714285714286, 59.79599999999999, 'entropy = 0.0\\nsamples = 5\\nvalue = [5, 0]'),\n",
       " Text(72.93857142857144, 70.668, 'entropy = 0.0\\nsamples = 1\\nvalue = [0, 1]'),\n",
       " Text(75.33, 81.53999999999999, 'entropy = 0.0\\nsamples = 4\\nvalue = [4, 0]'),\n",
       " Text(77.72142857142858, 92.412, 'entropy = 0.0\\nsamples = 1\\nvalue = [0, 1]'),\n",
       " Text(80.11285714285714, 103.28399999999999, 'entropy = 0.0\\nsamples = 2\\nvalue = [0, 2]'),\n",
       " Text(82.50428571428571, 114.156, 'entropy = 0.0\\nsamples = 3\\nvalue = [3, 0]'),\n",
       " Text(94.46142857142857, 125.02799999999999, 'X[4] <= 17.25\\nentropy = 0.959\\nsamples = 21\\nvalue = [8, 13]'),\n",
       " Text(87.28714285714285, 114.156, 'X[2] <= 0.5\\nentropy = 0.619\\nsamples = 13\\nvalue = [2, 11]'),\n",
       " Text(84.89571428571429, 103.28399999999999, 'entropy = 0.0\\nsamples = 6\\nvalue = [0, 6]'),\n",
       " Text(89.67857142857143, 103.28399999999999, 'X[1] <= 25.0\\nentropy = 0.863\\nsamples = 7\\nvalue = [2, 5]'),\n",
       " Text(87.28714285714285, 92.412, 'entropy = 0.0\\nsamples = 3\\nvalue = [0, 3]'),\n",
       " Text(92.07000000000001, 92.412, 'X[1] <= 27.0\\nentropy = 1.0\\nsamples = 4\\nvalue = [2, 2]'),\n",
       " Text(89.67857142857143, 81.53999999999999, 'entropy = 0.0\\nsamples = 1\\nvalue = [1, 0]'),\n",
       " Text(94.46142857142857, 81.53999999999999, 'X[3] <= 0.5\\nentropy = 0.918\\nsamples = 3\\nvalue = [1, 2]'),\n",
       " Text(92.07000000000001, 70.668, 'entropy = 0.0\\nsamples = 2\\nvalue = [0, 2]'),\n",
       " Text(96.85285714285715, 70.668, 'entropy = 0.0\\nsamples = 1\\nvalue = [1, 0]'),\n",
       " Text(101.63571428571429, 114.156, 'X[4] <= 21.55\\nentropy = 0.811\\nsamples = 8\\nvalue = [6, 2]'),\n",
       " Text(99.24428571428571, 103.28399999999999, 'X[1] <= 30.0\\nentropy = 0.592\\nsamples = 7\\nvalue = [6, 1]'),\n",
       " Text(96.85285714285715, 92.412, 'entropy = 0.0\\nsamples = 5\\nvalue = [5, 0]'),\n",
       " Text(101.63571428571429, 92.412, 'X[3] <= 0.5\\nentropy = 1.0\\nsamples = 2\\nvalue = [1, 1]'),\n",
       " Text(99.24428571428571, 81.53999999999999, 'entropy = 0.0\\nsamples = 1\\nvalue = [1, 0]'),\n",
       " Text(104.02714285714286, 81.53999999999999, 'entropy = 0.0\\nsamples = 1\\nvalue = [0, 1]'),\n",
       " Text(104.02714285714286, 103.28399999999999, 'entropy = 0.0\\nsamples = 1\\nvalue = [0, 1]'),\n",
       " Text(84.89571428571429, 146.772, 'entropy = 0.0\\nsamples = 3\\nvalue = [0, 3]'),\n",
       " Text(89.67857142857143, 168.516, 'X[1] <= 55.0\\nentropy = 0.592\\nsamples = 7\\nvalue = [6, 1]'),\n",
       " Text(87.28714285714285, 157.644, 'entropy = 0.0\\nsamples = 6\\nvalue = [6, 0]'),\n",
       " Text(92.07000000000001, 157.644, 'entropy = 0.0\\nsamples = 1\\nvalue = [0, 1]'),\n",
       " Text(96.85285714285715, 179.388, 'X[3] <= 0.5\\nentropy = 0.503\\nsamples = 27\\nvalue = [24, 3]'),\n",
       " Text(94.46142857142857, 168.516, 'entropy = 0.0\\nsamples = 1\\nvalue = [0, 1]'),\n",
       " Text(99.24428571428571, 168.516, 'X[4] <= 31.331\\nentropy = 0.391\\nsamples = 26\\nvalue = [24, 2]'),\n",
       " Text(96.85285714285715, 157.644, 'entropy = 0.0\\nsamples = 15\\nvalue = [15, 0]'),\n",
       " Text(101.63571428571429, 157.644, 'X[4] <= 32.881\\nentropy = 0.684\\nsamples = 11\\nvalue = [9, 2]'),\n",
       " Text(99.24428571428571, 146.772, 'entropy = 0.0\\nsamples = 2\\nvalue = [0, 2]'),\n",
       " Text(104.02714285714286, 146.772, 'entropy = 0.0\\nsamples = 9\\nvalue = [9, 0]'),\n",
       " Text(234.44874441964285, 201.132, 'X[4] <= 26.269\\nentropy = 0.699\\nsamples = 577\\nvalue = [468, 109]'),\n",
       " Text(168.84793526785714, 190.26, 'X[1] <= 13.5\\nentropy = 0.558\\nsamples = 415\\nvalue = [361, 54]'),\n",
       " Text(128.5392857142857, 179.388, 'X[2] <= 2.0\\nentropy = 0.567\\nsamples = 15\\nvalue = [2, 13]'),\n",
       " Text(126.14785714285715, 168.516, 'X[1] <= 10.0\\nentropy = 0.371\\nsamples = 14\\nvalue = [1, 13]'),\n",
       " Text(123.75642857142857, 157.644, 'entropy = 0.0\\nsamples = 12\\nvalue = [0, 12]'),\n",
       " Text(128.5392857142857, 157.644, 'X[2] <= 0.5\\nentropy = 1.0\\nsamples = 2\\nvalue = [1, 1]'),\n",
       " Text(126.14785714285715, 146.772, 'entropy = 0.0\\nsamples = 1\\nvalue = [1, 0]'),\n",
       " Text(130.9307142857143, 146.772, 'entropy = 0.0\\nsamples = 1\\nvalue = [0, 1]'),\n",
       " Text(130.9307142857143, 168.516, 'entropy = 0.0\\nsamples = 1\\nvalue = [1, 0]'),\n",
       " Text(209.15658482142857, 179.388, 'X[7] <= 0.5\\nentropy = 0.477\\nsamples = 400\\nvalue = [359, 41]'),\n",
       " Text(180.3660267857143, 168.516, 'X[4] <= 13.25\\nentropy = 0.437\\nsamples = 355\\nvalue = [323, 32]'),\n",
       " Text(154.4713392857143, 157.644, 'X[4] <= 7.91\\nentropy = 0.479\\nsamples = 291\\nvalue = [261, 30]'),\n",
       " Text(135.71357142857144, 146.772, 'X[4] <= 7.865\\nentropy = 0.353\\nsamples = 150\\nvalue = [140, 10]'),\n",
       " Text(133.32214285714286, 135.9, 'X[1] <= 32.5\\nentropy = 0.424\\nsamples = 116\\nvalue = [106, 10]'),\n",
       " Text(130.9307142857143, 125.02799999999999, 'X[1] <= 20.75\\nentropy = 0.507\\nsamples = 89\\nvalue = [79, 10]'),\n",
       " Text(128.5392857142857, 114.156, 'entropy = 0.0\\nsamples = 16\\nvalue = [16, 0]'),\n",
       " Text(133.32214285714286, 114.156, 'X[4] <= 7.763\\nentropy = 0.576\\nsamples = 73\\nvalue = [63, 10]'),\n",
       " Text(117.18, 103.28399999999999, 'X[1] <= 27.5\\nentropy = 0.451\\nsamples = 53\\nvalue = [48, 5]'),\n",
       " Text(111.20142857142858, 92.412, 'X[4] <= 7.013\\nentropy = 0.672\\nsamples = 17\\nvalue = [14, 3]'),\n",
       " Text(108.81, 81.53999999999999, 'entropy = 0.0\\nsamples = 2\\nvalue = [0, 2]'),\n",
       " Text(113.59285714285714, 81.53999999999999, 'X[4] <= 7.196\\nentropy = 0.353\\nsamples = 15\\nvalue = [14, 1]'),\n",
       " Text(111.20142857142858, 70.668, 'X[4] <= 7.133\\nentropy = 0.722\\nsamples = 5\\nvalue = [4, 1]'),\n",
       " Text(108.81, 59.79599999999999, 'entropy = 0.0\\nsamples = 4\\nvalue = [4, 0]'),\n",
       " Text(113.59285714285714, 59.79599999999999, 'entropy = 0.0\\nsamples = 1\\nvalue = [0, 1]'),\n",
       " Text(115.98428571428572, 70.668, 'entropy = 0.0\\nsamples = 10\\nvalue = [10, 0]'),\n",
       " Text(123.15857142857143, 92.412, 'X[4] <= 7.744\\nentropy = 0.31\\nsamples = 36\\nvalue = [34, 2]'),\n",
       " Text(120.76714285714286, 81.53999999999999, 'entropy = 0.0\\nsamples = 22\\nvalue = [22, 0]'),\n",
       " Text(125.55, 81.53999999999999, 'X[1] <= 28.5\\nentropy = 0.592\\nsamples = 14\\nvalue = [12, 2]'),\n",
       " Text(120.76714285714286, 70.668, 'X[2] <= 0.5\\nentropy = 0.439\\nsamples = 11\\nvalue = [10, 1]'),\n",
       " Text(118.37571428571428, 59.79599999999999, 'entropy = 0.469\\nsamples = 10\\nvalue = [9, 1]'),\n",
       " Text(123.15857142857143, 59.79599999999999, 'entropy = 0.0\\nsamples = 1\\nvalue = [1, 0]'),\n",
       " Text(130.33285714285714, 70.668, 'X[1] <= 30.0\\nentropy = 0.918\\nsamples = 3\\nvalue = [2, 1]'),\n",
       " Text(127.94142857142857, 59.79599999999999, 'entropy = 0.0\\nsamples = 1\\nvalue = [0, 1]'),\n",
       " Text(132.7242857142857, 59.79599999999999, 'entropy = 0.0\\nsamples = 2\\nvalue = [2, 0]'),\n",
       " Text(149.46428571428572, 103.28399999999999, 'X[1] <= 31.5\\nentropy = 0.811\\nsamples = 20\\nvalue = [15, 5]'),\n",
       " Text(147.07285714285715, 92.412, 'X[4] <= 7.798\\nentropy = 0.742\\nsamples = 19\\nvalue = [15, 4]'),\n",
       " Text(144.68142857142857, 81.53999999999999, 'X[1] <= 28.5\\nentropy = 0.89\\nsamples = 13\\nvalue = [9, 4]'),\n",
       " Text(142.29, 70.668, 'X[1] <= 26.5\\nentropy = 0.946\\nsamples = 11\\nvalue = [7, 4]'),\n",
       " Text(137.50714285714287, 59.79599999999999, 'X[1] <= 25.5\\nentropy = 0.863\\nsamples = 7\\nvalue = [5, 2]'),\n",
       " Text(135.1157142857143, 48.92400000000001, 'X[1] <= 21.5\\nentropy = 0.918\\nsamples = 6\\nvalue = [4, 2]'),\n",
       " Text(130.33285714285714, 38.05199999999999, 'X[4] <= 7.785\\nentropy = 1.0\\nsamples = 2\\nvalue = [1, 1]'),\n",
       " Text(127.94142857142857, 27.180000000000007, 'entropy = 0.0\\nsamples = 1\\nvalue = [1, 0]'),\n",
       " Text(132.7242857142857, 27.180000000000007, 'entropy = 0.0\\nsamples = 1\\nvalue = [0, 1]'),\n",
       " Text(139.89857142857144, 38.05199999999999, 'X[2] <= 0.5\\nentropy = 0.811\\nsamples = 4\\nvalue = [3, 1]'),\n",
       " Text(137.50714285714287, 27.180000000000007, 'entropy = 0.0\\nsamples = 2\\nvalue = [2, 0]'),\n",
       " Text(142.29, 27.180000000000007, 'entropy = 1.0\\nsamples = 2\\nvalue = [1, 1]'),\n",
       " Text(139.89857142857144, 48.92400000000001, 'entropy = 0.0\\nsamples = 1\\nvalue = [1, 0]'),\n",
       " Text(147.07285714285715, 59.79599999999999, 'X[1] <= 27.5\\nentropy = 1.0\\nsamples = 4\\nvalue = [2, 2]'),\n",
       " Text(144.68142857142857, 48.92400000000001, 'entropy = 0.0\\nsamples = 1\\nvalue = [0, 1]'),\n",
       " Text(149.46428571428572, 48.92400000000001, 'X[4] <= 7.785\\nentropy = 0.918\\nsamples = 3\\nvalue = [2, 1]'),\n",
       " Text(147.07285714285715, 38.05199999999999, 'entropy = 1.0\\nsamples = 2\\nvalue = [1, 1]'),\n",
       " Text(151.8557142857143, 38.05199999999999, 'entropy = 0.0\\nsamples = 1\\nvalue = [1, 0]'),\n",
       " Text(147.07285714285715, 70.668, 'entropy = 0.0\\nsamples = 2\\nvalue = [2, 0]'),\n",
       " Text(149.46428571428572, 81.53999999999999, 'entropy = 0.0\\nsamples = 6\\nvalue = [6, 0]'),\n",
       " Text(151.8557142857143, 92.412, 'entropy = 0.0\\nsamples = 1\\nvalue = [0, 1]'),\n",
       " Text(135.71357142857144, 125.02799999999999, 'entropy = 0.0\\nsamples = 27\\nvalue = [27, 0]'),\n",
       " Text(138.105, 135.9, 'entropy = 0.0\\nsamples = 34\\nvalue = [34, 0]'),\n",
       " Text(173.22910714285715, 146.772, 'X[4] <= 7.988\\nentropy = 0.589\\nsamples = 141\\nvalue = [121, 20]'),\n",
       " Text(161.42142857142858, 135.9, 'X[2] <= 1.5\\nentropy = 0.961\\nsamples = 13\\nvalue = [8, 5]'),\n",
       " Text(159.03, 125.02799999999999, 'X[2] <= 0.5\\nentropy = 0.994\\nsamples = 11\\nvalue = [6, 5]'),\n",
       " Text(156.63857142857142, 114.156, 'X[1] <= 26.0\\nentropy = 0.971\\nsamples = 10\\nvalue = [6, 4]'),\n",
       " Text(154.24714285714285, 103.28399999999999, 'entropy = 0.0\\nsamples = 3\\nvalue = [3, 0]'),\n",
       " Text(159.03, 103.28399999999999, 'X[1] <= 31.5\\nentropy = 0.985\\nsamples = 7\\nvalue = [3, 4]'),\n",
       " Text(156.63857142857142, 92.412, 'entropy = 0.0\\nsamples = 1\\nvalue = [0, 1]'),\n",
       " Text(161.42142857142858, 92.412, 'X[1] <= 41.5\\nentropy = 1.0\\nsamples = 6\\nvalue = [3, 3]'),\n",
       " Text(159.03, 81.53999999999999, 'X[1] <= 35.5\\nentropy = 0.971\\nsamples = 5\\nvalue = [3, 2]'),\n",
       " Text(156.63857142857142, 70.668, 'entropy = 0.918\\nsamples = 3\\nvalue = [2, 1]'),\n",
       " Text(161.42142857142858, 70.668, 'entropy = 1.0\\nsamples = 2\\nvalue = [1, 1]'),\n",
       " Text(163.81285714285715, 81.53999999999999, 'entropy = 0.0\\nsamples = 1\\nvalue = [0, 1]'),\n",
       " Text(161.42142857142858, 114.156, 'entropy = 0.0\\nsamples = 1\\nvalue = [0, 1]'),\n",
       " Text(163.81285714285715, 125.02799999999999, 'entropy = 0.0\\nsamples = 2\\nvalue = [2, 0]'),\n",
       " Text(185.0367857142857, 135.9, 'X[1] <= 19.5\\nentropy = 0.521\\nsamples = 128\\nvalue = [113, 15]'),\n",
       " Text(170.98714285714286, 125.02799999999999, 'X[4] <= 8.104\\nentropy = 0.722\\nsamples = 20\\nvalue = [16, 4]'),\n",
       " Text(166.2042857142857, 114.156, 'X[1] <= 17.0\\nentropy = 0.971\\nsamples = 5\\nvalue = [2, 3]'),\n",
       " Text(163.81285714285715, 103.28399999999999, 'entropy = 1.0\\nsamples = 2\\nvalue = [1, 1]'),\n",
       " Text(168.59571428571428, 103.28399999999999, 'X[1] <= 18.5\\nentropy = 0.918\\nsamples = 3\\nvalue = [1, 2]'),\n",
       " Text(166.2042857142857, 92.412, 'entropy = 0.0\\nsamples = 1\\nvalue = [0, 1]'),\n",
       " Text(170.98714285714286, 92.412, 'entropy = 1.0\\nsamples = 2\\nvalue = [1, 1]'),\n",
       " Text(175.77, 114.156, 'X[1] <= 18.5\\nentropy = 0.353\\nsamples = 15\\nvalue = [14, 1]'),\n",
       " Text(173.37857142857143, 103.28399999999999, 'entropy = 0.0\\nsamples = 10\\nvalue = [10, 0]'),\n",
       " Text(178.1614285714286, 103.28399999999999, 'X[0] <= 2.5\\nentropy = 0.722\\nsamples = 5\\nvalue = [4, 1]'),\n",
       " Text(175.77, 92.412, 'X[4] <= 11.75\\nentropy = 0.918\\nsamples = 3\\nvalue = [2, 1]'),\n",
       " Text(173.37857142857143, 81.53999999999999, 'entropy = 1.0\\nsamples = 2\\nvalue = [1, 1]'),\n",
       " Text(178.1614285714286, 81.53999999999999, 'entropy = 0.0\\nsamples = 1\\nvalue = [1, 0]'),\n",
       " Text(180.55285714285714, 92.412, 'entropy = 0.0\\nsamples = 2\\nvalue = [2, 0]'),\n",
       " Text(199.08642857142857, 125.02799999999999, 'X[1] <= 26.5\\nentropy = 0.475\\nsamples = 108\\nvalue = [97, 11]'),\n",
       " Text(196.695, 114.156, 'entropy = 0.0\\nsamples = 31\\nvalue = [31, 0]'),\n",
       " Text(201.47785714285715, 114.156, 'X[4] <= 8.081\\nentropy = 0.592\\nsamples = 77\\nvalue = [66, 11]'),\n",
       " Text(187.72714285714287, 103.28399999999999, 'X[1] <= 31.25\\nentropy = 0.371\\nsamples = 28\\nvalue = [26, 2]'),\n",
       " Text(185.3357142857143, 92.412, 'entropy = 0.0\\nsamples = 16\\nvalue = [16, 0]'),\n",
       " Text(190.11857142857144, 92.412, 'X[1] <= 33.0\\nentropy = 0.65\\nsamples = 12\\nvalue = [10, 2]'),\n",
       " Text(187.72714285714287, 81.53999999999999, 'entropy = 0.0\\nsamples = 1\\nvalue = [0, 1]'),\n",
       " Text(192.51, 81.53999999999999, 'X[1] <= 44.5\\nentropy = 0.439\\nsamples = 11\\nvalue = [10, 1]'),\n",
       " Text(190.11857142857144, 70.668, 'entropy = 0.0\\nsamples = 7\\nvalue = [7, 0]'),\n",
       " Text(194.90142857142857, 70.668, 'X[1] <= 47.5\\nentropy = 0.811\\nsamples = 4\\nvalue = [3, 1]'),\n",
       " Text(192.51, 59.79599999999999, 'entropy = 0.0\\nsamples = 1\\nvalue = [0, 1]'),\n",
       " Text(197.29285714285714, 59.79599999999999, 'entropy = 0.0\\nsamples = 3\\nvalue = [3, 0]'),\n",
       " Text(215.22857142857143, 103.28399999999999, 'X[4] <= 8.238\\nentropy = 0.688\\nsamples = 49\\nvalue = [40, 9]'),\n",
       " Text(212.83714285714285, 92.412, 'entropy = 0.0\\nsamples = 1\\nvalue = [0, 1]'),\n",
       " Text(217.62, 92.412, 'X[4] <= 8.658\\nentropy = 0.65\\nsamples = 48\\nvalue = [40, 8]'),\n",
       " Text(215.22857142857143, 81.53999999999999, 'entropy = 0.0\\nsamples = 4\\nvalue = [4, 0]'),\n",
       " Text(220.01142857142858, 81.53999999999999, 'X[1] <= 31.5\\nentropy = 0.684\\nsamples = 44\\nvalue = [36, 8]'),\n",
       " Text(209.25, 70.668, 'X[4] <= 10.0\\nentropy = 0.811\\nsamples = 20\\nvalue = [15, 5]'),\n",
       " Text(202.0757142857143, 59.79599999999999, 'X[1] <= 27.5\\nentropy = 0.954\\nsamples = 8\\nvalue = [5, 3]'),\n",
       " Text(199.68428571428572, 48.92400000000001, 'entropy = 0.0\\nsamples = 1\\nvalue = [0, 1]'),\n",
       " Text(204.46714285714285, 48.92400000000001, 'X[1] <= 28.5\\nentropy = 0.863\\nsamples = 7\\nvalue = [5, 2]'),\n",
       " Text(202.0757142857143, 38.05199999999999, 'entropy = 0.0\\nsamples = 4\\nvalue = [4, 0]'),\n",
       " Text(206.85857142857142, 38.05199999999999, 'X[4] <= 9.492\\nentropy = 0.918\\nsamples = 3\\nvalue = [1, 2]'),\n",
       " Text(204.46714285714285, 27.180000000000007, 'entropy = 0.0\\nsamples = 1\\nvalue = [1, 0]'),\n",
       " Text(209.25, 27.180000000000007, 'entropy = 0.0\\nsamples = 2\\nvalue = [0, 2]'),\n",
       " Text(216.42428571428573, 59.79599999999999, 'X[4] <= 11.75\\nentropy = 0.65\\nsamples = 12\\nvalue = [10, 2]'),\n",
       " Text(214.03285714285715, 48.92400000000001, 'entropy = 0.0\\nsamples = 4\\nvalue = [4, 0]'),\n",
       " Text(218.81571428571428, 48.92400000000001, 'X[1] <= 30.5\\nentropy = 0.811\\nsamples = 8\\nvalue = [6, 2]'),\n",
       " Text(216.42428571428573, 38.05199999999999, 'X[1] <= 29.0\\nentropy = 0.592\\nsamples = 7\\nvalue = [6, 1]'),\n",
       " Text(214.03285714285715, 27.180000000000007, 'X[1] <= 27.5\\nentropy = 0.811\\nsamples = 4\\nvalue = [3, 1]'),\n",
       " Text(211.64142857142858, 16.307999999999993, 'entropy = 0.0\\nsamples = 2\\nvalue = [2, 0]'),\n",
       " Text(216.42428571428573, 16.307999999999993, 'entropy = 1.0\\nsamples = 2\\nvalue = [1, 1]'),\n",
       " Text(218.81571428571428, 27.180000000000007, 'entropy = 0.0\\nsamples = 3\\nvalue = [3, 0]'),\n",
       " Text(221.20714285714286, 38.05199999999999, 'entropy = 0.0\\nsamples = 1\\nvalue = [0, 1]'),\n",
       " Text(230.77285714285713, 70.668, 'X[4] <= 10.0\\nentropy = 0.544\\nsamples = 24\\nvalue = [21, 3]'),\n",
       " Text(228.3814285714286, 59.79599999999999, 'entropy = 0.0\\nsamples = 4\\nvalue = [4, 0]'),\n",
       " Text(233.1642857142857, 59.79599999999999, 'X[1] <= 59.5\\nentropy = 0.61\\nsamples = 20\\nvalue = [17, 3]'),\n",
       " Text(228.3814285714286, 48.92400000000001, 'X[4] <= 12.762\\nentropy = 0.523\\nsamples = 17\\nvalue = [15, 2]'),\n",
       " Text(225.99, 38.05199999999999, 'entropy = 0.0\\nsamples = 6\\nvalue = [6, 0]'),\n",
       " Text(230.77285714285713, 38.05199999999999, 'X[1] <= 45.0\\nentropy = 0.684\\nsamples = 11\\nvalue = [9, 2]'),\n",
       " Text(228.3814285714286, 27.180000000000007, 'X[1] <= 40.5\\nentropy = 0.811\\nsamples = 8\\nvalue = [6, 2]'),\n",
       " Text(225.99, 16.307999999999993, 'X[1] <= 35.0\\nentropy = 0.65\\nsamples = 6\\nvalue = [5, 1]'),\n",
       " Text(223.59857142857143, 5.436000000000007, 'entropy = 0.918\\nsamples = 3\\nvalue = [2, 1]'),\n",
       " Text(228.3814285714286, 5.436000000000007, 'entropy = 0.0\\nsamples = 3\\nvalue = [3, 0]'),\n",
       " Text(230.77285714285713, 16.307999999999993, 'entropy = 1.0\\nsamples = 2\\nvalue = [1, 1]'),\n",
       " Text(233.1642857142857, 27.180000000000007, 'entropy = 0.0\\nsamples = 3\\nvalue = [3, 0]'),\n",
       " Text(237.94714285714286, 48.92400000000001, 'X[1] <= 64.0\\nentropy = 0.918\\nsamples = 3\\nvalue = [2, 1]'),\n",
       " Text(235.5557142857143, 38.05199999999999, 'entropy = 0.0\\nsamples = 1\\nvalue = [0, 1]'),\n",
       " Text(240.33857142857144, 38.05199999999999, 'entropy = 0.0\\nsamples = 2\\nvalue = [2, 0]'),\n",
       " Text(206.2607142857143, 157.644, 'X[4] <= 22.887\\nentropy = 0.201\\nsamples = 64\\nvalue = [62, 2]'),\n",
       " Text(203.86928571428572, 146.772, 'entropy = 0.0\\nsamples = 37\\nvalue = [37, 0]'),\n",
       " Text(208.65214285714285, 146.772, 'X[4] <= 23.35\\nentropy = 0.381\\nsamples = 27\\nvalue = [25, 2]'),\n",
       " Text(206.2607142857143, 135.9, 'entropy = 0.0\\nsamples = 1\\nvalue = [0, 1]'),\n",
       " Text(211.04357142857143, 135.9, 'X[1] <= 33.0\\nentropy = 0.235\\nsamples = 26\\nvalue = [25, 1]'),\n",
       " Text(208.65214285714285, 125.02799999999999, 'X[1] <= 31.5\\nentropy = 0.414\\nsamples = 12\\nvalue = [11, 1]'),\n",
       " Text(206.2607142857143, 114.156, 'entropy = 0.0\\nsamples = 11\\nvalue = [11, 0]'),\n",
       " Text(211.04357142857143, 114.156, 'entropy = 0.0\\nsamples = 1\\nvalue = [0, 1]'),\n",
       " Text(213.435, 125.02799999999999, 'entropy = 0.0\\nsamples = 14\\nvalue = [14, 0]'),\n",
       " Text(237.94714285714286, 168.516, 'X[4] <= 15.148\\nentropy = 0.722\\nsamples = 45\\nvalue = [36, 9]'),\n",
       " Text(233.1642857142857, 157.644, 'X[1] <= 29.5\\nentropy = 0.552\\nsamples = 39\\nvalue = [34, 5]'),\n",
       " Text(230.77285714285713, 146.772, 'X[1] <= 28.75\\nentropy = 0.65\\nsamples = 30\\nvalue = [25, 5]'),\n",
       " Text(228.3814285714286, 135.9, 'X[1] <= 22.5\\nentropy = 0.579\\nsamples = 29\\nvalue = [25, 4]'),\n",
       " Text(220.01142857142858, 125.02799999999999, 'X[1] <= 18.5\\nentropy = 0.918\\nsamples = 6\\nvalue = [4, 2]'),\n",
       " Text(217.62, 114.156, 'entropy = 0.0\\nsamples = 2\\nvalue = [2, 0]'),\n",
       " Text(222.40285714285716, 114.156, 'X[4] <= 5.619\\nentropy = 1.0\\nsamples = 4\\nvalue = [2, 2]'),\n",
       " Text(220.01142857142858, 103.28399999999999, 'entropy = 0.0\\nsamples = 1\\nvalue = [1, 0]'),\n",
       " Text(224.7942857142857, 103.28399999999999, 'X[4] <= 7.227\\nentropy = 0.918\\nsamples = 3\\nvalue = [1, 2]'),\n",
       " Text(222.40285714285716, 92.412, 'entropy = 0.0\\nsamples = 1\\nvalue = [0, 1]'),\n",
       " Text(227.18571428571428, 92.412, 'X[1] <= 21.0\\nentropy = 1.0\\nsamples = 2\\nvalue = [1, 1]'),\n",
       " Text(224.7942857142857, 81.53999999999999, 'entropy = 0.0\\nsamples = 1\\nvalue = [0, 1]'),\n",
       " Text(229.57714285714286, 81.53999999999999, 'entropy = 0.0\\nsamples = 1\\nvalue = [1, 0]'),\n",
       " Text(236.75142857142856, 125.02799999999999, 'X[0] <= 2.5\\nentropy = 0.426\\nsamples = 23\\nvalue = [21, 2]'),\n",
       " Text(231.96857142857144, 114.156, 'X[4] <= 14.454\\nentropy = 0.918\\nsamples = 3\\nvalue = [2, 1]'),\n",
       " Text(229.57714285714286, 103.28399999999999, 'entropy = 0.0\\nsamples = 1\\nvalue = [0, 1]'),\n",
       " Text(234.36, 103.28399999999999, 'entropy = 0.0\\nsamples = 2\\nvalue = [2, 0]'),\n",
       " Text(241.53428571428572, 114.156, 'X[4] <= 7.227\\nentropy = 0.286\\nsamples = 20\\nvalue = [19, 1]'),\n",
       " Text(239.14285714285714, 103.28399999999999, 'entropy = 0.0\\nsamples = 6\\nvalue = [6, 0]'),\n",
       " Text(243.9257142857143, 103.28399999999999, 'X[4] <= 7.562\\nentropy = 0.371\\nsamples = 14\\nvalue = [13, 1]'),\n",
       " Text(241.53428571428572, 92.412, 'X[1] <= 25.75\\nentropy = 0.544\\nsamples = 8\\nvalue = [7, 1]'),\n",
       " Text(239.14285714285714, 81.53999999999999, 'entropy = 0.0\\nsamples = 1\\nvalue = [1, 0]'),\n",
       " Text(243.9257142857143, 81.53999999999999, 'X[1] <= 28.25\\nentropy = 0.592\\nsamples = 7\\nvalue = [6, 1]'),\n",
       " Text(241.53428571428572, 70.668, 'entropy = 0.65\\nsamples = 6\\nvalue = [5, 1]'),\n",
       " Text(246.31714285714287, 70.668, 'entropy = 0.0\\nsamples = 1\\nvalue = [1, 0]'),\n",
       " Text(246.31714285714287, 92.412, 'entropy = 0.0\\nsamples = 6\\nvalue = [6, 0]'),\n",
       " Text(233.1642857142857, 135.9, 'entropy = 0.0\\nsamples = 1\\nvalue = [0, 1]'),\n",
       " Text(235.5557142857143, 146.772, 'entropy = 0.0\\nsamples = 9\\nvalue = [9, 0]'),\n",
       " Text(242.73, 157.644, 'X[4] <= 20.233\\nentropy = 0.918\\nsamples = 6\\nvalue = [2, 4]'),\n",
       " Text(240.33857142857144, 146.772, 'entropy = 0.0\\nsamples = 4\\nvalue = [0, 4]'),\n",
       " Text(245.12142857142857, 146.772, 'entropy = 0.0\\nsamples = 2\\nvalue = [2, 0]'),\n",
       " Text(300.0495535714286, 190.26, 'X[2] <= 2.5\\nentropy = 0.924\\nsamples = 162\\nvalue = [107, 55]'),\n",
       " Text(292.8752678571429, 179.388, 'X[1] <= 13.5\\nentropy = 0.964\\nsamples = 139\\nvalue = [85, 54]'),\n",
       " Text(290.4838392857143, 168.516, 'entropy = 0.0\\nsamples = 7\\nvalue = [0, 7]'),\n",
       " Text(295.26669642857144, 168.516, 'X[4] <= 26.469\\nentropy = 0.939\\nsamples = 132\\nvalue = [85, 47]'),\n",
       " Text(292.8752678571429, 157.644, 'entropy = 0.0\\nsamples = 4\\nvalue = [0, 4]'),\n",
       " Text(297.658125, 157.644, 'X[1] <= 53.0\\nentropy = 0.921\\nsamples = 128\\nvalue = [85, 43]'),\n",
       " Text(265.29910714285717, 146.772, 'X[4] <= 26.775\\nentropy = 0.956\\nsamples = 106\\nvalue = [66, 40]'),\n",
       " Text(255.88285714285715, 135.9, 'X[1] <= 46.5\\nentropy = 0.764\\nsamples = 9\\nvalue = [2, 7]'),\n",
       " Text(253.49142857142857, 125.02799999999999, 'X[9] <= 0.5\\nentropy = 0.863\\nsamples = 7\\nvalue = [2, 5]'),\n",
       " Text(251.1, 114.156, 'entropy = 0.0\\nsamples = 1\\nvalue = [0, 1]'),\n",
       " Text(255.88285714285715, 114.156, 'X[1] <= 39.5\\nentropy = 0.918\\nsamples = 6\\nvalue = [2, 4]'),\n",
       " Text(253.49142857142857, 103.28399999999999, 'X[1] <= 31.0\\nentropy = 0.811\\nsamples = 4\\nvalue = [1, 3]'),\n",
       " Text(251.1, 92.412, 'entropy = 0.918\\nsamples = 3\\nvalue = [1, 2]'),\n",
       " Text(255.88285714285715, 92.412, 'entropy = 0.0\\nsamples = 1\\nvalue = [0, 1]'),\n",
       " Text(258.2742857142857, 103.28399999999999, 'entropy = 1.0\\nsamples = 2\\nvalue = [1, 1]'),\n",
       " Text(258.2742857142857, 125.02799999999999, 'entropy = 0.0\\nsamples = 2\\nvalue = [0, 2]'),\n",
       " Text(274.71535714285716, 135.9, 'X[4] <= 29.1\\nentropy = 0.925\\nsamples = 97\\nvalue = [64, 33]'),\n",
       " Text(272.32392857142855, 125.02799999999999, 'entropy = 0.0\\nsamples = 9\\nvalue = [9, 0]'),\n",
       " Text(277.1067857142857, 125.02799999999999, 'X[4] <= 30.598\\nentropy = 0.954\\nsamples = 88\\nvalue = [55, 33]'),\n",
       " Text(265.4485714285714, 114.156, 'X[1] <= 28.5\\nentropy = 0.881\\nsamples = 10\\nvalue = [3, 7]'),\n",
       " Text(263.0571428571429, 103.28399999999999, 'entropy = 0.0\\nsamples = 5\\nvalue = [0, 5]'),\n",
       " Text(267.84000000000003, 103.28399999999999, 'X[4] <= 30.285\\nentropy = 0.971\\nsamples = 5\\nvalue = [3, 2]'),\n",
       " Text(265.4485714285714, 92.412, 'entropy = 0.0\\nsamples = 3\\nvalue = [3, 0]'),\n",
       " Text(270.2314285714286, 92.412, 'entropy = 0.0\\nsamples = 2\\nvalue = [0, 2]'),\n",
       " Text(288.765, 114.156, 'X[4] <= 52.277\\nentropy = 0.918\\nsamples = 78\\nvalue = [52, 26]'),\n",
       " Text(277.4057142857143, 103.28399999999999, 'X[1] <= 47.5\\nentropy = 0.619\\nsamples = 26\\nvalue = [22, 4]'),\n",
       " Text(275.01428571428573, 92.412, 'X[4] <= 36.125\\nentropy = 0.529\\nsamples = 25\\nvalue = [22, 3]'),\n",
       " Text(272.62285714285713, 81.53999999999999, 'X[4] <= 35.25\\nentropy = 0.845\\nsamples = 11\\nvalue = [8, 3]'),\n",
       " Text(267.84000000000003, 70.668, 'X[7] <= 0.5\\nentropy = 0.544\\nsamples = 8\\nvalue = [7, 1]'),\n",
       " Text(265.4485714285714, 59.79599999999999, 'entropy = 0.0\\nsamples = 6\\nvalue = [6, 0]'),\n",
       " Text(270.2314285714286, 59.79599999999999, 'X[4] <= 30.848\\nentropy = 1.0\\nsamples = 2\\nvalue = [1, 1]'),\n",
       " Text(267.84000000000003, 48.92400000000001, 'entropy = 0.0\\nsamples = 1\\nvalue = [1, 0]'),\n",
       " Text(272.62285714285713, 48.92400000000001, 'entropy = 0.0\\nsamples = 1\\nvalue = [0, 1]'),\n",
       " Text(277.4057142857143, 70.668, 'X[1] <= 36.5\\nentropy = 0.918\\nsamples = 3\\nvalue = [1, 2]'),\n",
       " Text(275.01428571428573, 59.79599999999999, 'entropy = 0.0\\nsamples = 2\\nvalue = [0, 2]'),\n",
       " Text(279.7971428571429, 59.79599999999999, 'entropy = 0.0\\nsamples = 1\\nvalue = [1, 0]'),\n",
       " Text(277.4057142857143, 81.53999999999999, 'entropy = 0.0\\nsamples = 14\\nvalue = [14, 0]'),\n",
       " Text(279.7971428571429, 92.412, 'entropy = 0.0\\nsamples = 1\\nvalue = [0, 1]'),\n",
       " Text(300.1242857142857, 103.28399999999999, 'X[4] <= 59.087\\nentropy = 0.983\\nsamples = 52\\nvalue = [30, 22]'),\n",
       " Text(286.9714285714286, 92.412, 'X[1] <= 22.0\\nentropy = 0.896\\nsamples = 16\\nvalue = [5, 11]'),\n",
       " Text(284.58, 81.53999999999999, 'entropy = 0.0\\nsamples = 1\\nvalue = [1, 0]'),\n",
       " Text(289.36285714285714, 81.53999999999999, 'X[1] <= 49.5\\nentropy = 0.837\\nsamples = 15\\nvalue = [4, 11]'),\n",
       " Text(286.9714285714286, 70.668, 'X[1] <= 27.5\\nentropy = 0.75\\nsamples = 14\\nvalue = [3, 11]'),\n",
       " Text(284.58, 59.79599999999999, 'entropy = 0.0\\nsamples = 3\\nvalue = [0, 3]'),\n",
       " Text(289.36285714285714, 59.79599999999999, 'X[1] <= 29.5\\nentropy = 0.845\\nsamples = 11\\nvalue = [3, 8]'),\n",
       " Text(286.9714285714286, 48.92400000000001, 'entropy = 1.0\\nsamples = 4\\nvalue = [2, 2]'),\n",
       " Text(291.75428571428574, 48.92400000000001, 'X[4] <= 54.798\\nentropy = 0.592\\nsamples = 7\\nvalue = [1, 6]'),\n",
       " Text(289.36285714285714, 38.05199999999999, 'X[4] <= 52.827\\nentropy = 0.918\\nsamples = 3\\nvalue = [1, 2]'),\n",
       " Text(286.9714285714286, 27.180000000000007, 'entropy = 0.0\\nsamples = 2\\nvalue = [0, 2]'),\n",
       " Text(291.75428571428574, 27.180000000000007, 'entropy = 0.0\\nsamples = 1\\nvalue = [1, 0]'),\n",
       " Text(294.1457142857143, 38.05199999999999, 'entropy = 0.0\\nsamples = 4\\nvalue = [0, 4]'),\n",
       " Text(291.75428571428574, 70.668, 'entropy = 0.0\\nsamples = 1\\nvalue = [1, 0]'),\n",
       " Text(313.27714285714285, 92.412, 'X[4] <= 379.925\\nentropy = 0.888\\nsamples = 36\\nvalue = [25, 11]'),\n",
       " Text(310.8857142857143, 81.53999999999999, 'X[4] <= 134.642\\nentropy = 0.834\\nsamples = 34\\nvalue = [25, 9]'),\n",
       " Text(308.4942857142857, 70.668, 'X[4] <= 86.29\\nentropy = 0.906\\nsamples = 28\\nvalue = [19, 9]'),\n",
       " Text(303.7114285714286, 59.79599999999999, 'X[9] <= 0.5\\nentropy = 0.65\\nsamples = 18\\nvalue = [15, 3]'),\n",
       " Text(301.32, 48.92400000000001, 'X[4] <= 77.965\\nentropy = 0.985\\nsamples = 7\\nvalue = [4, 3]'),\n",
       " Text(298.92857142857144, 38.05199999999999, 'X[1] <= 49.5\\nentropy = 0.811\\nsamples = 4\\nvalue = [1, 3]'),\n",
       " Text(296.53714285714284, 27.180000000000007, 'entropy = 0.0\\nsamples = 3\\nvalue = [0, 3]'),\n",
       " Text(301.32, 27.180000000000007, 'entropy = 0.0\\nsamples = 1\\nvalue = [1, 0]'),\n",
       " Text(303.7114285714286, 38.05199999999999, 'entropy = 0.0\\nsamples = 3\\nvalue = [3, 0]'),\n",
       " Text(306.10285714285715, 48.92400000000001, 'entropy = 0.0\\nsamples = 11\\nvalue = [11, 0]'),\n",
       " Text(313.27714285714285, 59.79599999999999, 'X[9] <= 0.5\\nentropy = 0.971\\nsamples = 10\\nvalue = [4, 6]'),\n",
       " Text(310.8857142857143, 48.92400000000001, 'X[3] <= 1.5\\nentropy = 0.985\\nsamples = 7\\nvalue = [4, 3]'),\n",
       " Text(308.4942857142857, 38.05199999999999, 'X[4] <= 98.752\\nentropy = 0.918\\nsamples = 6\\nvalue = [4, 2]'),\n",
       " Text(306.10285714285715, 27.180000000000007, 'X[7] <= 0.5\\nentropy = 0.918\\nsamples = 3\\nvalue = [1, 2]'),\n",
       " Text(303.7114285714286, 16.307999999999993, 'entropy = 0.0\\nsamples = 1\\nvalue = [1, 0]'),\n",
       " Text(308.4942857142857, 16.307999999999993, 'entropy = 0.0\\nsamples = 2\\nvalue = [0, 2]'),\n",
       " Text(310.8857142857143, 27.180000000000007, 'entropy = 0.0\\nsamples = 3\\nvalue = [3, 0]'),\n",
       " Text(313.27714285714285, 38.05199999999999, 'entropy = 0.0\\nsamples = 1\\nvalue = [0, 1]'),\n",
       " Text(315.66857142857145, 48.92400000000001, 'entropy = 0.0\\nsamples = 3\\nvalue = [0, 3]'),\n",
       " Text(313.27714285714285, 70.668, 'entropy = 0.0\\nsamples = 6\\nvalue = [6, 0]'),\n",
       " Text(315.66857142857145, 81.53999999999999, 'entropy = 0.0\\nsamples = 2\\nvalue = [0, 2]'),\n",
       " Text(330.01714285714286, 146.772, 'X[1] <= 75.5\\nentropy = 0.575\\nsamples = 22\\nvalue = [19, 3]'),\n",
       " Text(327.6257142857143, 135.9, 'X[9] <= 0.5\\nentropy = 0.454\\nsamples = 21\\nvalue = [19, 2]'),\n",
       " Text(325.2342857142857, 125.02799999999999, 'X[2] <= 0.5\\nentropy = 0.811\\nsamples = 8\\nvalue = [6, 2]'),\n",
       " Text(322.84285714285716, 114.156, 'X[1] <= 57.0\\nentropy = 0.592\\nsamples = 7\\nvalue = [6, 1]'),\n",
       " Text(320.45142857142855, 103.28399999999999, 'X[4] <= 33.098\\nentropy = 1.0\\nsamples = 2\\nvalue = [1, 1]'),\n",
       " Text(318.06, 92.412, 'entropy = 0.0\\nsamples = 1\\nvalue = [1, 0]'),\n",
       " Text(322.84285714285716, 92.412, 'entropy = 0.0\\nsamples = 1\\nvalue = [0, 1]'),\n",
       " Text(325.2342857142857, 103.28399999999999, 'entropy = 0.0\\nsamples = 5\\nvalue = [5, 0]'),\n",
       " Text(327.6257142857143, 114.156, 'entropy = 0.0\\nsamples = 1\\nvalue = [0, 1]'),\n",
       " Text(330.01714285714286, 125.02799999999999, 'entropy = 0.0\\nsamples = 13\\nvalue = [13, 0]'),\n",
       " Text(332.4085714285714, 135.9, 'entropy = 0.0\\nsamples = 1\\nvalue = [0, 1]'),\n",
       " Text(307.2238392857143, 179.388, 'X[1] <= 3.5\\nentropy = 0.258\\nsamples = 23\\nvalue = [22, 1]'),\n",
       " Text(304.83241071428574, 168.516, 'X[1] <= 2.5\\nentropy = 0.722\\nsamples = 5\\nvalue = [4, 1]'),\n",
       " Text(302.44098214285714, 157.644, 'entropy = 0.0\\nsamples = 4\\nvalue = [4, 0]'),\n",
       " Text(307.2238392857143, 157.644, 'entropy = 0.0\\nsamples = 1\\nvalue = [0, 1]'),\n",
       " Text(309.61526785714284, 168.516, 'entropy = 0.0\\nsamples = 18\\nvalue = [18, 0]')]"
      ]
     },
     "execution_count": 38,
     "metadata": {},
     "output_type": "execute_result"
    },
    {
     "data": {
      "image/png": "[encoded data removed]",
      "text/plain": [
       "<Figure size 432x288 with 1 Axes>"
      ]
     },
     "metadata": {
      "needs_background": "light"
     },
     "output_type": "display_data"
    }
   ],
   "source": [
    "tree.plot_tree(clf)"
   ]
  },
  {
   "cell_type": "code",
   "execution_count": null,
   "metadata": {
    "pycharm": {
     "name": "#%%\n"
    }
   },
   "outputs": [],
   "source": []
  },
  {
   "cell_type": "code",
   "execution_count": null,
   "metadata": {
    "pycharm": {
     "name": "#%%\n"
    }
   },
   "outputs": [],
   "source": []
  },
  {
   "cell_type": "code",
   "execution_count": null,
   "metadata": {
    "pycharm": {
     "name": "#%%\n"
    }
   },
   "outputs": [],
   "source": []
  },
  {
   "cell_type": "code",
   "execution_count": null,
   "metadata": {
    "pycharm": {
     "name": "#%%\n"
    }
   },
   "outputs": [],
   "source": []
  },
  {
   "cell_type": "code",
   "execution_count": null,
   "metadata": {
    "pycharm": {
     "name": "#%%\n"
    }
   },
   "outputs": [],
   "source": []
  },
  {
   "cell_type": "code",
   "execution_count": null,
   "metadata": {
    "pycharm": {
     "name": "#%%\n"
    }
   },
   "outputs": [],
   "source": []
  },
  {
   "cell_type": "code",
   "execution_count": null,
   "metadata": {
    "pycharm": {
     "name": "#%%\n"
    }
   },
   "outputs": [],
   "source": []
  }
 ],
 "metadata": {
  "kernelspec": {
   "display_name": "Python 3",
   "language": "python",
   "name": "python3"
  },
  "language_info": {
   "codemirror_mode": {
    "name": "ipython",
    "version": 3
   },
   "file_extension": ".py",
   "mimetype": "text/x-python",
   "name": "python",
   "nbconvert_exporter": "python",
   "pygments_lexer": "ipython3",
   "version": "3.8.8"
  }
 },
 "nbformat": 4,
 "nbformat_minor": 1
}