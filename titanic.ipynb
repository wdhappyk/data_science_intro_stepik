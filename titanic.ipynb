{
 "cells": [
  {
   "cell_type": "code",
   "execution_count": 96,
   "metadata": {
    "pycharm": {
     "name": "#%%\n"
    }
   },
   "outputs": [],
   "source": [
    "import pandas as pd\n",
    "import numpy as np\n",
    "from itertools import cycle"
   ]
  },
  {
   "cell_type": "code",
   "execution_count": 30,
   "metadata": {
    "pycharm": {
     "name": "#%%\n"
    }
   },
   "outputs": [],
   "source": [
    "import matplotlib.pyplot as plt\n",
    "import seaborn as sns\n",
    "%matplotlib inline"
   ]
  },
  {
   "cell_type": "code",
   "execution_count": 97,
   "outputs": [],
   "source": [
    "from sklearn import tree, svm, datasets\n",
    "from sklearn.model_selection import GridSearchCV, train_test_split, cross_val_score\n",
    "from sklearn.metrics import precision_score, recall_score, f1_score, roc_curve, auc, roc_auc_score\n",
    "from sklearn.preprocessing import label_binarize\n",
    "from sklearn.multiclass import OneVsRestClassifier"
   ],
   "metadata": {
    "collapsed": false,
    "pycharm": {
     "name": "#%%\n"
    }
   }
  },
  {
   "cell_type": "code",
   "execution_count": 32,
   "outputs": [],
   "source": [
    "sns.set(rc={'figure.figsize': (9, 6)})"
   ],
   "metadata": {
    "collapsed": false,
    "pycharm": {
     "name": "#%%\n"
    }
   }
  },
  {
   "cell_type": "code",
   "execution_count": 33,
   "outputs": [],
   "source": [
    "titanic_data = pd.read_csv('titanic/train.csv')"
   ],
   "metadata": {
    "collapsed": false,
    "pycharm": {
     "name": "#%%\n"
    }
   }
  },
  {
   "cell_type": "code",
   "execution_count": 34,
   "outputs": [
    {
     "data": {
      "text/plain": "   PassengerId  Survived  Pclass  \\\n0            1         0       3   \n1            2         1       1   \n2            3         1       3   \n3            4         1       1   \n4            5         0       3   \n\n                                                Name     Sex   Age  SibSp  \\\n0                            Braund, Mr. Owen Harris    male  22.0      1   \n1  Cumings, Mrs. John Bradley (Florence Briggs Th...  female  38.0      1   \n2                             Heikkinen, Miss. Laina  female  26.0      0   \n3       Futrelle, Mrs. Jacques Heath (Lily May Peel)  female  35.0      1   \n4                           Allen, Mr. William Henry    male  35.0      0   \n\n   Parch            Ticket     Fare Cabin Embarked  \n0      0         A/5 21171   7.2500   NaN        S  \n1      0          PC 17599  71.2833   C85        C  \n2      0  STON/O2. 3101282   7.9250   NaN        S  \n3      0            113803  53.1000  C123        S  \n4      0            373450   8.0500   NaN        S  ",
      "text/html": "<div>\n<style scoped>\n    .dataframe tbody tr th:only-of-type {\n        vertical-align: middle;\n    }\n\n    .dataframe tbody tr th {\n        vertical-align: top;\n    }\n\n    .dataframe thead th {\n        text-align: right;\n    }\n</style>\n<table border=\"1\" class=\"dataframe\">\n  <thead>\n    <tr style=\"text-align: right;\">\n      <th></th>\n      <th>PassengerId</th>\n      <th>Survived</th>\n      <th>Pclass</th>\n      <th>Name</th>\n      <th>Sex</th>\n      <th>Age</th>\n      <th>SibSp</th>\n      <th>Parch</th>\n      <th>Ticket</th>\n      <th>Fare</th>\n      <th>Cabin</th>\n      <th>Embarked</th>\n    </tr>\n  </thead>\n  <tbody>\n    <tr>\n      <th>0</th>\n      <td>1</td>\n      <td>0</td>\n      <td>3</td>\n      <td>Braund, Mr. Owen Harris</td>\n      <td>male</td>\n      <td>22.0</td>\n      <td>1</td>\n      <td>0</td>\n      <td>A/5 21171</td>\n      <td>7.2500</td>\n      <td>NaN</td>\n      <td>S</td>\n    </tr>\n    <tr>\n      <th>1</th>\n      <td>2</td>\n      <td>1</td>\n      <td>1</td>\n      <td>Cumings, Mrs. John Bradley (Florence Briggs Th...</td>\n      <td>female</td>\n      <td>38.0</td>\n      <td>1</td>\n      <td>0</td>\n      <td>PC 17599</td>\n      <td>71.2833</td>\n      <td>C85</td>\n      <td>C</td>\n    </tr>\n    <tr>\n      <th>2</th>\n      <td>3</td>\n      <td>1</td>\n      <td>3</td>\n      <td>Heikkinen, Miss. Laina</td>\n      <td>female</td>\n      <td>26.0</td>\n      <td>0</td>\n      <td>0</td>\n      <td>STON/O2. 3101282</td>\n      <td>7.9250</td>\n      <td>NaN</td>\n      <td>S</td>\n    </tr>\n    <tr>\n      <th>3</th>\n      <td>4</td>\n      <td>1</td>\n      <td>1</td>\n      <td>Futrelle, Mrs. Jacques Heath (Lily May Peel)</td>\n      <td>female</td>\n      <td>35.0</td>\n      <td>1</td>\n      <td>0</td>\n      <td>113803</td>\n      <td>53.1000</td>\n      <td>C123</td>\n      <td>S</td>\n    </tr>\n    <tr>\n      <th>4</th>\n      <td>5</td>\n      <td>0</td>\n      <td>3</td>\n      <td>Allen, Mr. William Henry</td>\n      <td>male</td>\n      <td>35.0</td>\n      <td>0</td>\n      <td>0</td>\n      <td>373450</td>\n      <td>8.0500</td>\n      <td>NaN</td>\n      <td>S</td>\n    </tr>\n  </tbody>\n</table>\n</div>"
     },
     "execution_count": 34,
     "metadata": {},
     "output_type": "execute_result"
    }
   ],
   "source": [
    "titanic_data.head()"
   ],
   "metadata": {
    "collapsed": false,
    "pycharm": {
     "name": "#%%\n"
    }
   }
  },
  {
   "cell_type": "code",
   "execution_count": 35,
   "outputs": [
    {
     "data": {
      "text/plain": "PassengerId      0\nSurvived         0\nPclass           0\nName             0\nSex              0\nAge            177\nSibSp            0\nParch            0\nTicket           0\nFare             0\nCabin          687\nEmbarked         2\ndtype: int64"
     },
     "execution_count": 35,
     "metadata": {},
     "output_type": "execute_result"
    }
   ],
   "source": [
    "titanic_data.isnull().sum()"
   ],
   "metadata": {
    "collapsed": false,
    "pycharm": {
     "name": "#%%\n"
    }
   }
  },
  {
   "cell_type": "code",
   "execution_count": 36,
   "outputs": [],
   "source": [
    "X = titanic_data.drop(['PassengerId', 'Survived', 'Name', 'Ticket', 'Cabin'], axis=1)\n",
    "y = titanic_data.Survived"
   ],
   "metadata": {
    "collapsed": false,
    "pycharm": {
     "name": "#%%\n"
    }
   }
  },
  {
   "cell_type": "code",
   "execution_count": 37,
   "outputs": [],
   "source": [
    "X = pd.get_dummies(X)"
   ],
   "metadata": {
    "collapsed": false,
    "pycharm": {
     "name": "#%%\n"
    }
   }
  },
  {
   "cell_type": "code",
   "execution_count": 38,
   "outputs": [],
   "source": [
    "X = X.fillna({'Age': X.Age.median()})"
   ],
   "metadata": {
    "collapsed": false,
    "pycharm": {
     "name": "#%%\n"
    }
   }
  },
  {
   "cell_type": "code",
   "execution_count": 39,
   "outputs": [],
   "source": [
    "clf = tree.DecisionTreeClassifier(criterion='entropy')"
   ],
   "metadata": {
    "collapsed": false,
    "pycharm": {
     "name": "#%%\n"
    }
   }
  },
  {
   "cell_type": "code",
   "execution_count": 40,
   "outputs": [
    {
     "data": {
      "text/plain": "DecisionTreeClassifier(criterion='entropy')"
     },
     "execution_count": 40,
     "metadata": {},
     "output_type": "execute_result"
    }
   ],
   "source": [
    "clf.fit(X, y)"
   ],
   "metadata": {
    "collapsed": false,
    "pycharm": {
     "name": "#%%\n"
    }
   }
  },
  {
   "cell_type": "code",
   "execution_count": 41,
   "outputs": [],
   "source": [
    "X_train, X_test, y_train, y_test = train_test_split(X, y, test_size=0.33, random_state=42)"
   ],
   "metadata": {
    "collapsed": false,
    "pycharm": {
     "name": "#%%\n"
    }
   }
  },
  {
   "cell_type": "code",
   "execution_count": 42,
   "outputs": [
    {
     "data": {
      "text/plain": "DecisionTreeClassifier(criterion='entropy')"
     },
     "execution_count": 42,
     "metadata": {},
     "output_type": "execute_result"
    }
   ],
   "source": [
    "clf.fit(X_train, y_train)"
   ],
   "metadata": {
    "collapsed": false,
    "pycharm": {
     "name": "#%%\n"
    }
   }
  },
  {
   "cell_type": "code",
   "execution_count": 43,
   "outputs": [
    {
     "data": {
      "text/plain": "0.7796610169491526"
     },
     "execution_count": 43,
     "metadata": {},
     "output_type": "execute_result"
    }
   ],
   "source": [
    "clf.score(X_test, y_test)"
   ],
   "metadata": {
    "collapsed": false,
    "pycharm": {
     "name": "#%%\n"
    }
   }
  },
  {
   "cell_type": "code",
   "execution_count": 44,
   "outputs": [],
   "source": [
    "clf = tree.DecisionTreeClassifier(criterion='entropy', max_depth=5)"
   ],
   "metadata": {
    "collapsed": false,
    "pycharm": {
     "name": "#%%\n"
    }
   }
  },
  {
   "cell_type": "code",
   "execution_count": 45,
   "outputs": [
    {
     "data": {
      "text/plain": "DecisionTreeClassifier(criterion='entropy', max_depth=5)"
     },
     "execution_count": 45,
     "metadata": {},
     "output_type": "execute_result"
    }
   ],
   "source": [
    "clf.fit(X_train, y_train)"
   ],
   "metadata": {
    "collapsed": false,
    "pycharm": {
     "name": "#%%\n"
    }
   }
  },
  {
   "cell_type": "code",
   "execution_count": 46,
   "outputs": [
    {
     "data": {
      "text/plain": "0.8101694915254237"
     },
     "execution_count": 46,
     "metadata": {},
     "output_type": "execute_result"
    }
   ],
   "source": [
    "clf.score(X_test, y_test)"
   ],
   "metadata": {
    "collapsed": false,
    "pycharm": {
     "name": "#%%\n"
    }
   }
  },
  {
   "cell_type": "code",
   "execution_count": 47,
   "outputs": [],
   "source": [
    "max_depth_values = range(1, 100)"
   ],
   "metadata": {
    "collapsed": false,
    "pycharm": {
     "name": "#%%\n"
    }
   }
  },
  {
   "cell_type": "code",
   "execution_count": 48,
   "outputs": [],
   "source": [
    "scores = pd.DataFrame()"
   ],
   "metadata": {
    "collapsed": false,
    "pycharm": {
     "name": "#%%\n"
    }
   }
  },
  {
   "cell_type": "code",
   "execution_count": 49,
   "outputs": [],
   "source": [
    "for max_depth in max_depth_values:\n",
    "    clf = tree.DecisionTreeClassifier(criterion='entropy', max_depth=max_depth)\n",
    "    clf.fit(X_train, y_train)\n",
    "    train_score = clf.score(X_train, y_train)\n",
    "    test_score = clf.score(X_test, y_test)\n",
    "    mean_cross_val_score = cross_val_score(clf, X_train, y_train, cv=5).mean()\n",
    "    scores = pd.concat([\n",
    "        scores,\n",
    "        pd.DataFrame({\n",
    "            'max_depth': [max_depth],\n",
    "            'train_score': [train_score],\n",
    "            'test_score': [test_score],\n",
    "            'cross_val_score': [mean_cross_val_score]\n",
    "        }),\n",
    "    ], ignore_index=True)"
   ],
   "metadata": {
    "collapsed": false,
    "pycharm": {
     "name": "#%%\n"
    }
   }
  },
  {
   "cell_type": "code",
   "execution_count": 50,
   "outputs": [
    {
     "data": {
      "text/plain": "   max_depth  train_score  test_score  cross_val_score\n0          1     0.781879    0.796610         0.781961\n1          2     0.805369    0.776271         0.770196\n2          3     0.823826    0.820339         0.790322\n3          4     0.833893    0.823729         0.788627\n4          5     0.840604    0.806780         0.793669",
      "text/html": "<div>\n<style scoped>\n    .dataframe tbody tr th:only-of-type {\n        vertical-align: middle;\n    }\n\n    .dataframe tbody tr th {\n        vertical-align: top;\n    }\n\n    .dataframe thead th {\n        text-align: right;\n    }\n</style>\n<table border=\"1\" class=\"dataframe\">\n  <thead>\n    <tr style=\"text-align: right;\">\n      <th></th>\n      <th>max_depth</th>\n      <th>train_score</th>\n      <th>test_score</th>\n      <th>cross_val_score</th>\n    </tr>\n  </thead>\n  <tbody>\n    <tr>\n      <th>0</th>\n      <td>1</td>\n      <td>0.781879</td>\n      <td>0.796610</td>\n      <td>0.781961</td>\n    </tr>\n    <tr>\n      <th>1</th>\n      <td>2</td>\n      <td>0.805369</td>\n      <td>0.776271</td>\n      <td>0.770196</td>\n    </tr>\n    <tr>\n      <th>2</th>\n      <td>3</td>\n      <td>0.823826</td>\n      <td>0.820339</td>\n      <td>0.790322</td>\n    </tr>\n    <tr>\n      <th>3</th>\n      <td>4</td>\n      <td>0.833893</td>\n      <td>0.823729</td>\n      <td>0.788627</td>\n    </tr>\n    <tr>\n      <th>4</th>\n      <td>5</td>\n      <td>0.840604</td>\n      <td>0.806780</td>\n      <td>0.793669</td>\n    </tr>\n  </tbody>\n</table>\n</div>"
     },
     "execution_count": 50,
     "metadata": {},
     "output_type": "execute_result"
    }
   ],
   "source": [
    "scores.head()"
   ],
   "metadata": {
    "collapsed": false,
    "pycharm": {
     "name": "#%%\n"
    }
   }
  },
  {
   "cell_type": "code",
   "execution_count": 51,
   "outputs": [],
   "source": [
    "scores_data_long = pd.melt(scores,\n",
    "        id_vars=['max_depth'],\n",
    "        value_vars=['train_score', 'test_score', 'cross_val_score'],\n",
    "        var_name='set_type',\n",
    "        value_name='score'\n",
    "        )"
   ],
   "metadata": {
    "collapsed": false,
    "pycharm": {
     "name": "#%%\n"
    }
   }
  },
  {
   "cell_type": "code",
   "execution_count": 52,
   "outputs": [
    {
     "data": {
      "text/plain": "   max_depth     set_type     score\n0          1  train_score  0.781879\n1          2  train_score  0.805369\n2          3  train_score  0.823826\n3          4  train_score  0.833893\n4          5  train_score  0.840604",
      "text/html": "<div>\n<style scoped>\n    .dataframe tbody tr th:only-of-type {\n        vertical-align: middle;\n    }\n\n    .dataframe tbody tr th {\n        vertical-align: top;\n    }\n\n    .dataframe thead th {\n        text-align: right;\n    }\n</style>\n<table border=\"1\" class=\"dataframe\">\n  <thead>\n    <tr style=\"text-align: right;\">\n      <th></th>\n      <th>max_depth</th>\n      <th>set_type</th>\n      <th>score</th>\n    </tr>\n  </thead>\n  <tbody>\n    <tr>\n      <th>0</th>\n      <td>1</td>\n      <td>train_score</td>\n      <td>0.781879</td>\n    </tr>\n    <tr>\n      <th>1</th>\n      <td>2</td>\n      <td>train_score</td>\n      <td>0.805369</td>\n    </tr>\n    <tr>\n      <th>2</th>\n      <td>3</td>\n      <td>train_score</td>\n      <td>0.823826</td>\n    </tr>\n    <tr>\n      <th>3</th>\n      <td>4</td>\n      <td>train_score</td>\n      <td>0.833893</td>\n    </tr>\n    <tr>\n      <th>4</th>\n      <td>5</td>\n      <td>train_score</td>\n      <td>0.840604</td>\n    </tr>\n  </tbody>\n</table>\n</div>"
     },
     "execution_count": 52,
     "metadata": {},
     "output_type": "execute_result"
    }
   ],
   "source": [
    "scores_data_long.head()"
   ],
   "metadata": {
    "collapsed": false,
    "pycharm": {
     "name": "#%%\n"
    }
   }
  },
  {
   "cell_type": "code",
   "execution_count": 53,
   "outputs": [
    {
     "data": {
      "text/plain": "<AxesSubplot:xlabel='max_depth', ylabel='score'>"
     },
     "execution_count": 53,
     "metadata": {},
     "output_type": "execute_result"
    },
    {
     "data": {
      "text/plain": "<Figure size 648x432 with 1 Axes>",
      "image/png": "[encoded data removed]"
     },
     "metadata": {},
     "output_type": "display_data"
    }
   ],
   "source": [
    "sns.lineplot(data=scores_data_long, x='max_depth', y='score', hue='set_type')"
   ],
   "metadata": {
    "collapsed": false,
    "pycharm": {
     "name": "#%%\n"
    }
   }
  },
  {
   "cell_type": "code",
   "execution_count": 54,
   "outputs": [
    {
     "data": {
      "text/plain": "     max_depth         set_type     score\n198          1  cross_val_score  0.781961\n199          2  cross_val_score  0.770196\n200          3  cross_val_score  0.790322\n201          4  cross_val_score  0.788627\n202          5  cross_val_score  0.793669\n203          6  cross_val_score  0.800392\n204          7  cross_val_score  0.797017\n205          8  cross_val_score  0.802045\n206          9  cross_val_score  0.791947\n207         10  cross_val_score  0.802031\n208         11  cross_val_score  0.802031\n209         12  cross_val_score  0.795336\n210         13  cross_val_score  0.788585\n211         14  cross_val_score  0.793627\n212         15  cross_val_score  0.785266\n213         16  cross_val_score  0.780252\n214         17  cross_val_score  0.781919\n215         18  cross_val_score  0.783613\n216         19  cross_val_score  0.773515\n217         20  cross_val_score  0.768501",
      "text/html": "<div>\n<style scoped>\n    .dataframe tbody tr th:only-of-type {\n        vertical-align: middle;\n    }\n\n    .dataframe tbody tr th {\n        vertical-align: top;\n    }\n\n    .dataframe thead th {\n        text-align: right;\n    }\n</style>\n<table border=\"1\" class=\"dataframe\">\n  <thead>\n    <tr style=\"text-align: right;\">\n      <th></th>\n      <th>max_depth</th>\n      <th>set_type</th>\n      <th>score</th>\n    </tr>\n  </thead>\n  <tbody>\n    <tr>\n      <th>198</th>\n      <td>1</td>\n      <td>cross_val_score</td>\n      <td>0.781961</td>\n    </tr>\n    <tr>\n      <th>199</th>\n      <td>2</td>\n      <td>cross_val_score</td>\n      <td>0.770196</td>\n    </tr>\n    <tr>\n      <th>200</th>\n      <td>3</td>\n      <td>cross_val_score</td>\n      <td>0.790322</td>\n    </tr>\n    <tr>\n      <th>201</th>\n      <td>4</td>\n      <td>cross_val_score</td>\n      <td>0.788627</td>\n    </tr>\n    <tr>\n      <th>202</th>\n      <td>5</td>\n      <td>cross_val_score</td>\n      <td>0.793669</td>\n    </tr>\n    <tr>\n      <th>203</th>\n      <td>6</td>\n      <td>cross_val_score</td>\n      <td>0.800392</td>\n    </tr>\n    <tr>\n      <th>204</th>\n      <td>7</td>\n      <td>cross_val_score</td>\n      <td>0.797017</td>\n    </tr>\n    <tr>\n      <th>205</th>\n      <td>8</td>\n      <td>cross_val_score</td>\n      <td>0.802045</td>\n    </tr>\n    <tr>\n      <th>206</th>\n      <td>9</td>\n      <td>cross_val_score</td>\n      <td>0.791947</td>\n    </tr>\n    <tr>\n      <th>207</th>\n      <td>10</td>\n      <td>cross_val_score</td>\n      <td>0.802031</td>\n    </tr>\n    <tr>\n      <th>208</th>\n      <td>11</td>\n      <td>cross_val_score</td>\n      <td>0.802031</td>\n    </tr>\n    <tr>\n      <th>209</th>\n      <td>12</td>\n      <td>cross_val_score</td>\n      <td>0.795336</td>\n    </tr>\n    <tr>\n      <th>210</th>\n      <td>13</td>\n      <td>cross_val_score</td>\n      <td>0.788585</td>\n    </tr>\n    <tr>\n      <th>211</th>\n      <td>14</td>\n      <td>cross_val_score</td>\n      <td>0.793627</td>\n    </tr>\n    <tr>\n      <th>212</th>\n      <td>15</td>\n      <td>cross_val_score</td>\n      <td>0.785266</td>\n    </tr>\n    <tr>\n      <th>213</th>\n      <td>16</td>\n      <td>cross_val_score</td>\n      <td>0.780252</td>\n    </tr>\n    <tr>\n      <th>214</th>\n      <td>17</td>\n      <td>cross_val_score</td>\n      <td>0.781919</td>\n    </tr>\n    <tr>\n      <th>215</th>\n      <td>18</td>\n      <td>cross_val_score</td>\n      <td>0.783613</td>\n    </tr>\n    <tr>\n      <th>216</th>\n      <td>19</td>\n      <td>cross_val_score</td>\n      <td>0.773515</td>\n    </tr>\n    <tr>\n      <th>217</th>\n      <td>20</td>\n      <td>cross_val_score</td>\n      <td>0.768501</td>\n    </tr>\n  </tbody>\n</table>\n</div>"
     },
     "execution_count": 54,
     "metadata": {},
     "output_type": "execute_result"
    }
   ],
   "source": [
    "scores_data_long.query('set_type == \"cross_val_score\"').head(20)"
   ],
   "metadata": {
    "collapsed": false,
    "pycharm": {
     "name": "#%%\n"
    }
   }
  },
  {
   "cell_type": "code",
   "execution_count": 55,
   "outputs": [],
   "source": [
    "best_clf = tree.DecisionTreeClassifier(criterion='entropy', max_depth=10)"
   ],
   "metadata": {
    "collapsed": false,
    "pycharm": {
     "name": "#%%\n"
    }
   }
  },
  {
   "cell_type": "code",
   "execution_count": 56,
   "outputs": [
    {
     "data": {
      "text/plain": "0.7898305084745763"
     },
     "execution_count": 56,
     "metadata": {},
     "output_type": "execute_result"
    }
   ],
   "source": [
    "cross_val_score(clf, X_test, y_test, cv=5).mean()"
   ],
   "metadata": {
    "collapsed": false,
    "pycharm": {
     "name": "#%%\n"
    }
   }
  },
  {
   "cell_type": "code",
   "execution_count": 58,
   "outputs": [],
   "source": [
    "clf = tree.DecisionTreeClassifier()"
   ],
   "metadata": {
    "collapsed": false,
    "pycharm": {
     "name": "#%%\n"
    }
   }
  },
  {
   "cell_type": "code",
   "execution_count": 59,
   "metadata": {
    "pycharm": {
     "name": "#%%\n"
    }
   },
   "outputs": [],
   "source": [
    "parameters = {\n",
    "    'criterion': ['gini', 'entropy'],\n",
    "    'max_depth': range(1, 30)\n",
    "}"
   ]
  },
  {
   "cell_type": "code",
   "execution_count": 60,
   "metadata": {
    "pycharm": {
     "name": "#%%\n"
    }
   },
   "outputs": [],
   "source": [
    "grid_search_cv_clf = GridSearchCV(clf, parameters, cv=5)"
   ]
  },
  {
   "cell_type": "code",
   "execution_count": 61,
   "metadata": {
    "pycharm": {
     "name": "#%%\n"
    }
   },
   "outputs": [
    {
     "data": {
      "text/plain": "GridSearchCV(cv=5, estimator=DecisionTreeClassifier(),\n             param_grid={'criterion': ['gini', 'entropy'],\n                         'max_depth': range(1, 30)})"
     },
     "execution_count": 61,
     "metadata": {},
     "output_type": "execute_result"
    }
   ],
   "source": [
    "grid_search_cv_clf.fit(X_test, y_test)"
   ]
  },
  {
   "cell_type": "code",
   "execution_count": 62,
   "metadata": {
    "pycharm": {
     "name": "#%%\n"
    }
   },
   "outputs": [
    {
     "data": {
      "text/plain": "{'criterion': 'entropy', 'max_depth': 5}"
     },
     "execution_count": 62,
     "metadata": {},
     "output_type": "execute_result"
    }
   ],
   "source": [
    "grid_search_cv_clf.best_params_"
   ]
  },
  {
   "cell_type": "code",
   "execution_count": 63,
   "metadata": {
    "pycharm": {
     "name": "#%%\n"
    }
   },
   "outputs": [],
   "source": [
    "best_clf = grid_search_cv_clf.best_estimator_"
   ]
  },
  {
   "cell_type": "code",
   "execution_count": 65,
   "outputs": [
    {
     "data": {
      "text/plain": "0.8711864406779661"
     },
     "execution_count": 65,
     "metadata": {},
     "output_type": "execute_result"
    }
   ],
   "source": [
    "best_clf.score(X_test, y_test)"
   ],
   "metadata": {
    "collapsed": false,
    "pycharm": {
     "name": "#%%\n"
    }
   }
  },
  {
   "cell_type": "code",
   "execution_count": 66,
   "outputs": [],
   "source": [
    "y_true = y_test"
   ],
   "metadata": {
    "collapsed": false,
    "pycharm": {
     "name": "#%%\n"
    }
   }
  },
  {
   "cell_type": "code",
   "execution_count": 67,
   "outputs": [],
   "source": [
    "y_pred = best_clf.predict(X_test)"
   ],
   "metadata": {
    "collapsed": false,
    "pycharm": {
     "name": "#%%\n"
    }
   }
  },
  {
   "cell_type": "code",
   "execution_count": 69,
   "outputs": [
    {
     "data": {
      "text/plain": "0.8059701492537313"
     },
     "execution_count": 69,
     "metadata": {},
     "output_type": "execute_result"
    }
   ],
   "source": [
    "precision_score(y_true, y_pred)"
   ],
   "metadata": {
    "collapsed": false,
    "pycharm": {
     "name": "#%%\n"
    }
   }
  },
  {
   "cell_type": "code",
   "execution_count": 70,
   "outputs": [
    {
     "data": {
      "text/plain": "0.9"
     },
     "execution_count": 70,
     "metadata": {},
     "output_type": "execute_result"
    }
   ],
   "source": [
    "recall_score(y_true, y_pred)"
   ],
   "metadata": {
    "collapsed": false,
    "pycharm": {
     "name": "#%%\n"
    }
   }
  },
  {
   "cell_type": "code",
   "execution_count": 71,
   "outputs": [
    {
     "data": {
      "text/plain": "0.8503937007874016"
     },
     "execution_count": 71,
     "metadata": {},
     "output_type": "execute_result"
    }
   ],
   "source": [
    "f1_score(y_true, y_pred)"
   ],
   "metadata": {
    "collapsed": false,
    "pycharm": {
     "name": "#%%\n"
    }
   }
  },
  {
   "cell_type": "code",
   "execution_count": 72,
   "outputs": [],
   "source": [
    "y_predicted_prob = best_clf.predict_proba(X_test)"
   ],
   "metadata": {
    "collapsed": false,
    "pycharm": {
     "name": "#%%\n"
    }
   }
  },
  {
   "cell_type": "code",
   "execution_count": 75,
   "outputs": [
    {
     "data": {
      "text/plain": "array([[0.        , 1.        ],\n       [0.95833333, 0.04166667],\n       [1.        , 0.        ],\n       [0.22857143, 0.77142857],\n       [0.22857143, 0.77142857],\n       [0.        , 1.        ],\n       [0.        , 1.        ],\n       [0.83333333, 0.16666667],\n       [0.        , 1.        ],\n       [0.        , 1.        ],\n       [0.34375   , 0.65625   ],\n       [0.81481481, 0.18518519],\n       [1.        , 0.        ],\n       [0.92      , 0.08      ],\n       [0.95833333, 0.04166667],\n       [0.        , 1.        ],\n       [0.34375   , 0.65625   ],\n       [0.        , 1.        ],\n       [0.95833333, 0.04166667],\n       [0.34375   , 0.65625   ],\n       [1.        , 0.        ],\n       [0.34375   , 0.65625   ],\n       [0.22857143, 0.77142857],\n       [0.81481481, 0.18518519],\n       [0.95833333, 0.04166667],\n       [0.83333333, 0.16666667],\n       [0.34375   , 0.65625   ],\n       [0.95833333, 0.04166667],\n       [0.83333333, 0.16666667],\n       [0.35      , 0.65      ],\n       [1.        , 0.        ],\n       [0.22857143, 0.77142857],\n       [0.34375   , 0.65625   ],\n       [0.22857143, 0.77142857],\n       [0.81481481, 0.18518519],\n       [0.95833333, 0.04166667],\n       [0.34375   , 0.65625   ],\n       [0.        , 1.        ],\n       [0.        , 1.        ],\n       [1.        , 0.        ],\n       [0.83333333, 0.16666667],\n       [0.92      , 0.08      ],\n       [0.81481481, 0.18518519],\n       [1.        , 0.        ],\n       [1.        , 0.        ],\n       [0.83333333, 0.16666667],\n       [0.81481481, 0.18518519],\n       [0.81481481, 0.18518519],\n       [0.92      , 0.08      ],\n       [1.        , 0.        ],\n       [0.22857143, 0.77142857],\n       [0.        , 1.        ],\n       [0.83333333, 0.16666667],\n       [0.34375   , 0.65625   ],\n       [1.        , 0.        ],\n       [0.        , 1.        ],\n       [0.95833333, 0.04166667],\n       [0.        , 1.        ],\n       [0.35      , 0.65      ],\n       [0.        , 1.        ],\n       [1.        , 0.        ],\n       [0.22857143, 0.77142857],\n       [0.22857143, 0.77142857],\n       [0.34375   , 0.65625   ],\n       [1.        , 0.        ],\n       [0.35      , 0.65      ],\n       [0.83333333, 0.16666667],\n       [1.        , 0.        ],\n       [0.92      , 0.08      ],\n       [0.        , 1.        ],\n       [0.22857143, 0.77142857],\n       [0.        , 1.        ],\n       [0.34375   , 0.65625   ],\n       [0.        , 1.        ],\n       [1.        , 0.        ],\n       [0.83333333, 0.16666667],\n       [1.        , 0.        ],\n       [0.        , 1.        ],\n       [0.35      , 0.65      ],\n       [0.35      , 0.65      ],\n       [0.83333333, 0.16666667],\n       [0.22857143, 0.77142857],\n       [0.        , 1.        ],\n       [1.        , 0.        ],\n       [1.        , 0.        ],\n       [1.        , 0.        ],\n       [0.        , 1.        ],\n       [0.        , 1.        ],\n       [0.92      , 0.08      ],\n       [1.        , 0.        ],\n       [0.83333333, 0.16666667],\n       [1.        , 0.        ],\n       [1.        , 0.        ],\n       [1.        , 0.        ],\n       [1.        , 0.        ],\n       [1.        , 0.        ],\n       [0.34375   , 0.65625   ],\n       [0.81481481, 0.18518519],\n       [0.35      , 0.65      ],\n       [1.        , 0.        ],\n       [1.        , 0.        ],\n       [0.92      , 0.08      ],\n       [0.        , 1.        ],\n       [0.92      , 0.08      ],\n       [0.81481481, 0.18518519],\n       [1.        , 0.        ],\n       [0.35      , 0.65      ],\n       [0.34375   , 0.65625   ],\n       [0.81481481, 0.18518519],\n       [0.34375   , 0.65625   ],\n       [0.        , 1.        ],\n       [1.        , 0.        ],\n       [0.        , 1.        ],\n       [0.34375   , 0.65625   ],\n       [1.        , 0.        ],\n       [0.95833333, 0.04166667],\n       [1.        , 0.        ],\n       [0.95833333, 0.04166667],\n       [0.22857143, 0.77142857],\n       [0.35      , 0.65      ],\n       [0.95833333, 0.04166667],\n       [0.        , 1.        ],\n       [0.        , 1.        ],\n       [0.83333333, 0.16666667],\n       [1.        , 0.        ],\n       [0.34375   , 0.65625   ],\n       [0.        , 1.        ],\n       [0.34375   , 0.65625   ],\n       [0.22857143, 0.77142857],\n       [0.81481481, 0.18518519],\n       [0.        , 1.        ],\n       [0.        , 1.        ],\n       [0.92      , 0.08      ],\n       [0.22857143, 0.77142857],\n       [0.34375   , 0.65625   ],\n       [0.22857143, 0.77142857],\n       [0.        , 1.        ],\n       [1.        , 0.        ],\n       [1.        , 0.        ],\n       [0.22857143, 0.77142857],\n       [0.81481481, 0.18518519],\n       [0.35      , 0.65      ],\n       [0.95833333, 0.04166667],\n       [0.83333333, 0.16666667],\n       [1.        , 0.        ],\n       [0.35      , 0.65      ],\n       [0.95833333, 0.04166667],\n       [0.95833333, 0.04166667],\n       [0.        , 1.        ],\n       [0.81481481, 0.18518519],\n       [0.81481481, 0.18518519],\n       [1.        , 0.        ],\n       [1.        , 0.        ],\n       [0.        , 1.        ],\n       [0.81481481, 0.18518519],\n       [0.92      , 0.08      ],\n       [0.83333333, 0.16666667],\n       [0.        , 1.        ],\n       [0.35      , 0.65      ],\n       [1.        , 0.        ],\n       [0.92      , 0.08      ],\n       [0.34375   , 0.65625   ],\n       [0.95833333, 0.04166667],\n       [0.        , 1.        ],\n       [0.81481481, 0.18518519],\n       [1.        , 0.        ],\n       [0.95833333, 0.04166667],\n       [0.        , 1.        ],\n       [1.        , 0.        ],\n       [0.92      , 0.08      ],\n       [0.34375   , 0.65625   ],\n       [0.22857143, 0.77142857],\n       [0.34375   , 0.65625   ],\n       [0.22857143, 0.77142857],\n       [0.92      , 0.08      ],\n       [0.92      , 0.08      ],\n       [0.35      , 0.65      ],\n       [0.22857143, 0.77142857],\n       [0.22857143, 0.77142857],\n       [0.34375   , 0.65625   ],\n       [0.95833333, 0.04166667],\n       [1.        , 0.        ],\n       [1.        , 0.        ],\n       [1.        , 0.        ],\n       [1.        , 0.        ],\n       [0.34375   , 0.65625   ],\n       [0.83333333, 0.16666667],\n       [1.        , 0.        ],\n       [0.34375   , 0.65625   ],\n       [0.35      , 0.65      ],\n       [0.83333333, 0.16666667],\n       [0.95833333, 0.04166667],\n       [0.92      , 0.08      ],\n       [0.81481481, 0.18518519],\n       [0.35      , 0.65      ],\n       [0.        , 1.        ],\n       [0.        , 1.        ],\n       [0.95833333, 0.04166667],\n       [0.        , 1.        ],\n       [1.        , 0.        ],\n       [0.92      , 0.08      ],\n       [0.35      , 0.65      ],\n       [0.22857143, 0.77142857],\n       [0.35      , 0.65      ],\n       [0.92      , 0.08      ],\n       [0.22857143, 0.77142857],\n       [0.81481481, 0.18518519],\n       [0.34375   , 0.65625   ],\n       [0.95833333, 0.04166667],\n       [0.81481481, 0.18518519],\n       [1.        , 0.        ],\n       [1.        , 0.        ],\n       [0.        , 1.        ],\n       [1.        , 0.        ],\n       [1.        , 0.        ],\n       [0.83333333, 0.16666667],\n       [0.22857143, 0.77142857],\n       [0.34375   , 0.65625   ],\n       [0.22857143, 0.77142857],\n       [1.        , 0.        ],\n       [1.        , 0.        ],\n       [0.22857143, 0.77142857],\n       [0.83333333, 0.16666667],\n       [0.34375   , 0.65625   ],\n       [0.92      , 0.08      ],\n       [0.22857143, 0.77142857],\n       [1.        , 0.        ],\n       [0.34375   , 0.65625   ],\n       [0.22857143, 0.77142857],\n       [0.22857143, 0.77142857],\n       [0.83333333, 0.16666667],\n       [0.        , 1.        ],\n       [1.        , 0.        ],\n       [0.22857143, 0.77142857],\n       [0.81481481, 0.18518519],\n       [0.22857143, 0.77142857],\n       [0.        , 1.        ],\n       [0.22857143, 0.77142857],\n       [0.        , 1.        ],\n       [0.95833333, 0.04166667],\n       [0.92      , 0.08      ],\n       [0.35      , 0.65      ],\n       [0.92      , 0.08      ],\n       [0.22857143, 0.77142857],\n       [0.92      , 0.08      ],\n       [0.81481481, 0.18518519],\n       [0.81481481, 0.18518519],\n       [1.        , 0.        ],\n       [1.        , 0.        ],\n       [0.34375   , 0.65625   ],\n       [0.35      , 0.65      ],\n       [0.83333333, 0.16666667],\n       [1.        , 0.        ],\n       [0.92      , 0.08      ],\n       [0.34375   , 0.65625   ],\n       [0.92      , 0.08      ],\n       [0.81481481, 0.18518519],\n       [0.        , 1.        ],\n       [0.95833333, 0.04166667],\n       [0.22857143, 0.77142857],\n       [0.        , 1.        ],\n       [0.34375   , 0.65625   ],\n       [0.35      , 0.65      ],\n       [0.81481481, 0.18518519],\n       [0.92      , 0.08      ],\n       [1.        , 0.        ],\n       [0.81481481, 0.18518519],\n       [0.34375   , 0.65625   ],\n       [0.34375   , 0.65625   ],\n       [1.        , 0.        ],\n       [0.22857143, 0.77142857],\n       [0.83333333, 0.16666667],\n       [0.83333333, 0.16666667],\n       [1.        , 0.        ],\n       [0.35      , 0.65      ],\n       [0.81481481, 0.18518519],\n       [0.81481481, 0.18518519],\n       [0.95833333, 0.04166667],\n       [0.        , 1.        ],\n       [0.95833333, 0.04166667],\n       [0.81481481, 0.18518519],\n       [0.92      , 0.08      ],\n       [0.        , 1.        ],\n       [0.92      , 0.08      ],\n       [0.95833333, 0.04166667],\n       [0.83333333, 0.16666667],\n       [0.        , 1.        ],\n       [0.83333333, 0.16666667],\n       [0.83333333, 0.16666667],\n       [0.        , 1.        ],\n       [1.        , 0.        ],\n       [1.        , 0.        ],\n       [0.22857143, 0.77142857],\n       [0.22857143, 0.77142857],\n       [1.        , 0.        ]])"
     },
     "execution_count": 75,
     "metadata": {},
     "output_type": "execute_result"
    }
   ],
   "source": [
    "y_predicted_prob"
   ],
   "metadata": {
    "collapsed": false,
    "pycharm": {
     "name": "#%%\n"
    }
   }
  },
  {
   "cell_type": "code",
   "execution_count": 78,
   "outputs": [
    {
     "data": {
      "text/plain": "<AxesSubplot:>"
     },
     "execution_count": 78,
     "metadata": {},
     "output_type": "execute_result"
    },
    {
     "data": {
      "text/plain": "<Figure size 648x432 with 1 Axes>",
      "image/png": "[encoded data removed]"
     },
     "metadata": {},
     "output_type": "display_data"
    }
   ],
   "source": [
    "pd.Series(y_predicted_prob[:,1]).hist()"
   ],
   "metadata": {
    "collapsed": false,
    "pycharm": {
     "name": "#%%\n"
    }
   }
  },
  {
   "cell_type": "code",
   "execution_count": 92,
   "outputs": [],
   "source": [
    "y_pred = np.where(y_predicted_prob[:,1] > 0.2, 1, 0)"
   ],
   "metadata": {
    "collapsed": false,
    "pycharm": {
     "name": "#%%\n"
    }
   }
  },
  {
   "cell_type": "code",
   "execution_count": 93,
   "outputs": [
    {
     "data": {
      "text/plain": "0.8059701492537313"
     },
     "execution_count": 93,
     "metadata": {},
     "output_type": "execute_result"
    }
   ],
   "source": [
    "precision_score(y_true, y_pred)"
   ],
   "metadata": {
    "collapsed": false,
    "pycharm": {
     "name": "#%%\n"
    }
   }
  },
  {
   "cell_type": "code",
   "execution_count": 94,
   "outputs": [
    {
     "data": {
      "text/plain": "0.9"
     },
     "execution_count": 94,
     "metadata": {},
     "output_type": "execute_result"
    }
   ],
   "source": [
    "recall_score(y_true, y_pred)"
   ],
   "metadata": {
    "collapsed": false,
    "pycharm": {
     "name": "#%%\n"
    }
   }
  },
  {
   "cell_type": "code",
   "execution_count": 95,
   "outputs": [
    {
     "data": {
      "text/plain": "0.8503937007874016"
     },
     "execution_count": 95,
     "metadata": {},
     "output_type": "execute_result"
    }
   ],
   "source": [
    "f1_score(y_true, y_pred)"
   ],
   "metadata": {
    "collapsed": false,
    "pycharm": {
     "name": "#%%\n"
    }
   }
  },
  {
   "cell_type": "code",
   "execution_count": 127,
   "outputs": [
    {
     "data": {
      "text/plain": "<matplotlib.legend.Legend at 0x7fd250c28bb0>"
     },
     "execution_count": 127,
     "metadata": {},
     "output_type": "execute_result"
    },
    {
     "data": {
      "text/plain": "<Figure size 648x432 with 1 Axes>",
      "image/png": "[encoded data removed]"
     },
     "metadata": {},
     "output_type": "display_data"
    }
   ],
   "source": [
    "fpr, tpr, thresholds = roc_curve(y_test, y_predicted_prob[:,1])\n",
    "roc_auc = auc(fpr, tpr)\n",
    "\n",
    "plt.figure()\n",
    "plt.plot(fpr, tpr, label='ROC curve (area = %0.2f)' % (roc_auc), lw=5)\n",
    "plt.plot([0, 1], [0, 1], 'k--', lw=5)\n",
    "plt.xlim([0, 1.05])\n",
    "plt.ylim([0, 1.05])\n",
    "plt.xlabel('False Positive Rate')\n",
    "plt.ylabel('True Positive Rate')\n",
    "plt.title('Receiver operating characteristic')\n",
    "plt.legend(loc='lower right')"
   ],
   "metadata": {
    "collapsed": false,
    "pycharm": {
     "name": "#%%\n"
    }
   }
  },
  {
   "cell_type": "code",
   "execution_count": null,
   "outputs": [],
   "source": [],
   "metadata": {
    "collapsed": false,
    "pycharm": {
     "name": "#%%\n"
    }
   }
  }
 ],
 "metadata": {
  "kernelspec": {
   "display_name": "Python 3",
   "language": "python",
   "name": "python3"
  },
  "language_info": {
   "codemirror_mode": {
    "name": "ipython",
    "version": 3
   },
   "file_extension": ".py",
   "mimetype": "text/x-python",
   "name": "python",
   "nbconvert_exporter": "python",
   "pygments_lexer": "ipython3",
   "version": "3.8.8"
  }
 },
 "nbformat": 4,
 "nbformat_minor": 1
}