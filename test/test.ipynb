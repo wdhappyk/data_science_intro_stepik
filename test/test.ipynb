{
 "cells": [
  {
   "cell_type": "code",
   "execution_count": 1,
   "outputs": [],
   "source": [
    "import numpy as np\n",
    "import pandas as pd"
   ],
   "metadata": {
    "collapsed": false,
    "pycharm": {
     "name": "#%%\n"
    }
   }
  },
  {
   "cell_type": "code",
   "execution_count": 2,
   "outputs": [],
   "source": [
    "%matplotlib inline\n",
    "import matplotlib.pyplot as plt\n",
    "import seaborn as sns"
   ],
   "metadata": {
    "collapsed": false,
    "pycharm": {
     "name": "#%%\n"
    }
   }
  },
  {
   "cell_type": "code",
   "execution_count": 3,
   "outputs": [],
   "source": [
    "sns.set(rc={'figure.figsize': (9, 6)})"
   ],
   "metadata": {
    "collapsed": false,
    "pycharm": {
     "name": "#%%\n"
    }
   }
  },
  {
   "cell_type": "code",
   "execution_count": 9,
   "outputs": [],
   "source": [
    "events_data = pd.read_csv('events_data_test.csv')\n",
    "submission_data = pd.read_csv('submission_data_test.csv')"
   ],
   "metadata": {
    "collapsed": false,
    "pycharm": {
     "name": "#%%\n"
    }
   }
  },
  {
   "cell_type": "code",
   "execution_count": 12,
   "outputs": [],
   "source": [
    "events_data['date'] = pd.to_datetime(events_data['timestamp'], unit='s')\n",
    "events_data['day'] = events_data['date'].dt.date"
   ],
   "metadata": {
    "collapsed": false,
    "pycharm": {
     "name": "#%%\n"
    }
   }
  },
  {
   "cell_type": "code",
   "execution_count": 14,
   "outputs": [],
   "source": [
    "submission_data['date'] = pd.to_datetime(submission_data['timestamp'], unit='s')\n",
    "submission_data['day'] = submission_data['date'].dt.date"
   ],
   "metadata": {
    "collapsed": false,
    "pycharm": {
     "name": "#%%\n"
    }
   }
  },
  {
   "cell_type": "code",
   "execution_count": 39,
   "outputs": [
    {
     "data": {
      "text/plain": "(1526788741, 1548003643)"
     },
     "execution_count": 39,
     "metadata": {},
     "output_type": "execute_result"
    }
   ],
   "source": [
    "events_data.timestamp.min(), events_data.timestamp.max()"
   ],
   "metadata": {
    "collapsed": false,
    "pycharm": {
     "name": "#%%\n"
    }
   }
  },
  {
   "cell_type": "code",
   "execution_count": 41,
   "outputs": [
    {
     "data": {
      "text/plain": "(1526800069, 1548003218)"
     },
     "execution_count": 41,
     "metadata": {},
     "output_type": "execute_result"
    }
   ],
   "source": [
    "submission_data.timestamp.min(), submission_data.timestamp.max()"
   ],
   "metadata": {
    "collapsed": false,
    "pycharm": {
     "name": "#%%\n"
    }
   }
  },
  {
   "cell_type": "code",
   "execution_count": 42,
   "outputs": [
    {
     "data": {
      "text/plain": "        step_id   timestamp      action  user_id                date  \\\n0         30456  1526893787      viewed    24417 2018-05-21 09:09:47   \n1         30456  1526893797      viewed    24417 2018-05-21 09:09:57   \n2         30456  1526893954      viewed    24417 2018-05-21 09:12:34   \n3         30456  1526895780      viewed    24417 2018-05-21 09:43:00   \n4         30456  1526893787  discovered    24417 2018-05-21 09:09:47   \n...         ...         ...         ...      ...                 ...   \n274763   158433  1545846175  discovered     3649 2018-12-26 17:42:55   \n274764   158433  1545846175      passed     3649 2018-12-26 17:42:55   \n274765   158433  1545846283      viewed    20953 2018-12-26 17:44:43   \n274766   158433  1545846283  discovered    20953 2018-12-26 17:44:43   \n274767   158433  1545846283      passed    20953 2018-12-26 17:44:43   \n\n               day  \n0       2018-05-21  \n1       2018-05-21  \n2       2018-05-21  \n3       2018-05-21  \n4       2018-05-21  \n...            ...  \n274763  2018-12-26  \n274764  2018-12-26  \n274765  2018-12-26  \n274766  2018-12-26  \n274767  2018-12-26  \n\n[274768 rows x 6 columns]",
      "text/html": "<div>\n<style scoped>\n    .dataframe tbody tr th:only-of-type {\n        vertical-align: middle;\n    }\n\n    .dataframe tbody tr th {\n        vertical-align: top;\n    }\n\n    .dataframe thead th {\n        text-align: right;\n    }\n</style>\n<table border=\"1\" class=\"dataframe\">\n  <thead>\n    <tr style=\"text-align: right;\">\n      <th></th>\n      <th>step_id</th>\n      <th>timestamp</th>\n      <th>action</th>\n      <th>user_id</th>\n      <th>date</th>\n      <th>day</th>\n    </tr>\n  </thead>\n  <tbody>\n    <tr>\n      <th>0</th>\n      <td>30456</td>\n      <td>1526893787</td>\n      <td>viewed</td>\n      <td>24417</td>\n      <td>2018-05-21 09:09:47</td>\n      <td>2018-05-21</td>\n    </tr>\n    <tr>\n      <th>1</th>\n      <td>30456</td>\n      <td>1526893797</td>\n      <td>viewed</td>\n      <td>24417</td>\n      <td>2018-05-21 09:09:57</td>\n      <td>2018-05-21</td>\n    </tr>\n    <tr>\n      <th>2</th>\n      <td>30456</td>\n      <td>1526893954</td>\n      <td>viewed</td>\n      <td>24417</td>\n      <td>2018-05-21 09:12:34</td>\n      <td>2018-05-21</td>\n    </tr>\n    <tr>\n      <th>3</th>\n      <td>30456</td>\n      <td>1526895780</td>\n      <td>viewed</td>\n      <td>24417</td>\n      <td>2018-05-21 09:43:00</td>\n      <td>2018-05-21</td>\n    </tr>\n    <tr>\n      <th>4</th>\n      <td>30456</td>\n      <td>1526893787</td>\n      <td>discovered</td>\n      <td>24417</td>\n      <td>2018-05-21 09:09:47</td>\n      <td>2018-05-21</td>\n    </tr>\n    <tr>\n      <th>...</th>\n      <td>...</td>\n      <td>...</td>\n      <td>...</td>\n      <td>...</td>\n      <td>...</td>\n      <td>...</td>\n    </tr>\n    <tr>\n      <th>274763</th>\n      <td>158433</td>\n      <td>1545846175</td>\n      <td>discovered</td>\n      <td>3649</td>\n      <td>2018-12-26 17:42:55</td>\n      <td>2018-12-26</td>\n    </tr>\n    <tr>\n      <th>274764</th>\n      <td>158433</td>\n      <td>1545846175</td>\n      <td>passed</td>\n      <td>3649</td>\n      <td>2018-12-26 17:42:55</td>\n      <td>2018-12-26</td>\n    </tr>\n    <tr>\n      <th>274765</th>\n      <td>158433</td>\n      <td>1545846283</td>\n      <td>viewed</td>\n      <td>20953</td>\n      <td>2018-12-26 17:44:43</td>\n      <td>2018-12-26</td>\n    </tr>\n    <tr>\n      <th>274766</th>\n      <td>158433</td>\n      <td>1545846283</td>\n      <td>discovered</td>\n      <td>20953</td>\n      <td>2018-12-26 17:44:43</td>\n      <td>2018-12-26</td>\n    </tr>\n    <tr>\n      <th>274767</th>\n      <td>158433</td>\n      <td>1545846283</td>\n      <td>passed</td>\n      <td>20953</td>\n      <td>2018-12-26 17:44:43</td>\n      <td>2018-12-26</td>\n    </tr>\n  </tbody>\n</table>\n<p>274768 rows × 6 columns</p>\n</div>"
     },
     "execution_count": 42,
     "metadata": {},
     "output_type": "execute_result"
    }
   ],
   "source": [
    "events_data"
   ],
   "metadata": {
    "collapsed": false,
    "pycharm": {
     "name": "#%%\n"
    }
   }
  },
  {
   "cell_type": "code",
   "execution_count": 60,
   "outputs": [
    {
     "data": {
      "text/plain": "       step_id   timestamp submission_status  user_id                date  \\\n0        31971  1526800961             wrong    24370 2018-05-20 07:22:41   \n1        31971  1526800976             wrong    24370 2018-05-20 07:22:56   \n2        31971  1526800993             wrong    24370 2018-05-20 07:23:13   \n3        31971  1526801054           correct    24370 2018-05-20 07:24:14   \n4        31972  1526800664             wrong    24370 2018-05-20 07:17:44   \n...        ...         ...               ...      ...                 ...   \n42256   120745  1539247150           correct      448 2018-10-11 08:39:10   \n42257   120745  1540380070             wrong     9418 2018-10-24 11:21:10   \n42258   120745  1543165802           correct     8093 2018-11-25 17:10:02   \n42259   120745  1544465625             wrong    25737 2018-12-10 18:13:45   \n42260   120745  1544465692           correct    25737 2018-12-10 18:14:52   \n\n              day  \n0      2018-05-20  \n1      2018-05-20  \n2      2018-05-20  \n3      2018-05-20  \n4      2018-05-20  \n...           ...  \n42256  2018-10-11  \n42257  2018-10-24  \n42258  2018-11-25  \n42259  2018-12-10  \n42260  2018-12-10  \n\n[42261 rows x 6 columns]",
      "text/html": "<div>\n<style scoped>\n    .dataframe tbody tr th:only-of-type {\n        vertical-align: middle;\n    }\n\n    .dataframe tbody tr th {\n        vertical-align: top;\n    }\n\n    .dataframe thead th {\n        text-align: right;\n    }\n</style>\n<table border=\"1\" class=\"dataframe\">\n  <thead>\n    <tr style=\"text-align: right;\">\n      <th></th>\n      <th>step_id</th>\n      <th>timestamp</th>\n      <th>submission_status</th>\n      <th>user_id</th>\n      <th>date</th>\n      <th>day</th>\n    </tr>\n  </thead>\n  <tbody>\n    <tr>\n      <th>0</th>\n      <td>31971</td>\n      <td>1526800961</td>\n      <td>wrong</td>\n      <td>24370</td>\n      <td>2018-05-20 07:22:41</td>\n      <td>2018-05-20</td>\n    </tr>\n    <tr>\n      <th>1</th>\n      <td>31971</td>\n      <td>1526800976</td>\n      <td>wrong</td>\n      <td>24370</td>\n      <td>2018-05-20 07:22:56</td>\n      <td>2018-05-20</td>\n    </tr>\n    <tr>\n      <th>2</th>\n      <td>31971</td>\n      <td>1526800993</td>\n      <td>wrong</td>\n      <td>24370</td>\n      <td>2018-05-20 07:23:13</td>\n      <td>2018-05-20</td>\n    </tr>\n    <tr>\n      <th>3</th>\n      <td>31971</td>\n      <td>1526801054</td>\n      <td>correct</td>\n      <td>24370</td>\n      <td>2018-05-20 07:24:14</td>\n      <td>2018-05-20</td>\n    </tr>\n    <tr>\n      <th>4</th>\n      <td>31972</td>\n      <td>1526800664</td>\n      <td>wrong</td>\n      <td>24370</td>\n      <td>2018-05-20 07:17:44</td>\n      <td>2018-05-20</td>\n    </tr>\n    <tr>\n      <th>...</th>\n      <td>...</td>\n      <td>...</td>\n      <td>...</td>\n      <td>...</td>\n      <td>...</td>\n      <td>...</td>\n    </tr>\n    <tr>\n      <th>42256</th>\n      <td>120745</td>\n      <td>1539247150</td>\n      <td>correct</td>\n      <td>448</td>\n      <td>2018-10-11 08:39:10</td>\n      <td>2018-10-11</td>\n    </tr>\n    <tr>\n      <th>42257</th>\n      <td>120745</td>\n      <td>1540380070</td>\n      <td>wrong</td>\n      <td>9418</td>\n      <td>2018-10-24 11:21:10</td>\n      <td>2018-10-24</td>\n    </tr>\n    <tr>\n      <th>42258</th>\n      <td>120745</td>\n      <td>1543165802</td>\n      <td>correct</td>\n      <td>8093</td>\n      <td>2018-11-25 17:10:02</td>\n      <td>2018-11-25</td>\n    </tr>\n    <tr>\n      <th>42259</th>\n      <td>120745</td>\n      <td>1544465625</td>\n      <td>wrong</td>\n      <td>25737</td>\n      <td>2018-12-10 18:13:45</td>\n      <td>2018-12-10</td>\n    </tr>\n    <tr>\n      <th>42260</th>\n      <td>120745</td>\n      <td>1544465692</td>\n      <td>correct</td>\n      <td>25737</td>\n      <td>2018-12-10 18:14:52</td>\n      <td>2018-12-10</td>\n    </tr>\n  </tbody>\n</table>\n<p>42261 rows × 6 columns</p>\n</div>"
     },
     "execution_count": 60,
     "metadata": {},
     "output_type": "execute_result"
    }
   ],
   "source": [
    "submission_data"
   ],
   "metadata": {
    "collapsed": false,
    "pycharm": {
     "name": "#%%\n"
    }
   }
  },
  {
   "cell_type": "code",
   "execution_count": 57,
   "outputs": [
    {
     "data": {
      "text/plain": "      user_id  step_id\n0          12        1\n1          13       29\n2          15       11\n3          21       30\n4          35        9\n...       ...      ...\n2798    26775       38\n2799    26780       16\n2800    26785        3\n2801    26796        2\n2802    26799        2\n\n[2803 rows x 2 columns]",
      "text/html": "<div>\n<style scoped>\n    .dataframe tbody tr th:only-of-type {\n        vertical-align: middle;\n    }\n\n    .dataframe tbody tr th {\n        vertical-align: top;\n    }\n\n    .dataframe thead th {\n        text-align: right;\n    }\n</style>\n<table border=\"1\" class=\"dataframe\">\n  <thead>\n    <tr style=\"text-align: right;\">\n      <th></th>\n      <th>user_id</th>\n      <th>step_id</th>\n    </tr>\n  </thead>\n  <tbody>\n    <tr>\n      <th>0</th>\n      <td>12</td>\n      <td>1</td>\n    </tr>\n    <tr>\n      <th>1</th>\n      <td>13</td>\n      <td>29</td>\n    </tr>\n    <tr>\n      <th>2</th>\n      <td>15</td>\n      <td>11</td>\n    </tr>\n    <tr>\n      <th>3</th>\n      <td>21</td>\n      <td>30</td>\n    </tr>\n    <tr>\n      <th>4</th>\n      <td>35</td>\n      <td>9</td>\n    </tr>\n    <tr>\n      <th>...</th>\n      <td>...</td>\n      <td>...</td>\n    </tr>\n    <tr>\n      <th>2798</th>\n      <td>26775</td>\n      <td>38</td>\n    </tr>\n    <tr>\n      <th>2799</th>\n      <td>26780</td>\n      <td>16</td>\n    </tr>\n    <tr>\n      <th>2800</th>\n      <td>26785</td>\n      <td>3</td>\n    </tr>\n    <tr>\n      <th>2801</th>\n      <td>26796</td>\n      <td>2</td>\n    </tr>\n    <tr>\n      <th>2802</th>\n      <td>26799</td>\n      <td>2</td>\n    </tr>\n  </tbody>\n</table>\n<p>2803 rows × 2 columns</p>\n</div>"
     },
     "execution_count": 57,
     "metadata": {},
     "output_type": "execute_result"
    }
   ],
   "source": [
    "submission_data\\\n",
    "    .groupby(['user_id'], as_index=False)\\\n",
    "    .agg({'step_id': 'nunique'})"
   ],
   "metadata": {
    "collapsed": false,
    "pycharm": {
     "name": "#%%\n"
    }
   }
  },
  {
   "cell_type": "code",
   "execution_count": 59,
   "outputs": [
    {
     "data": {
      "text/plain": "       user_id  step_id  count\n0            4    32815      1\n1            6    32815      1\n2           10    32815      1\n3           10    33894      1\n4           12    31955      1\n...        ...      ...    ...\n62352    26799    32812      1\n62353    26799    32814      1\n62354    26799    32815      1\n62355    26799    32816      1\n62356    26799    32929      1\n\n[62357 rows x 3 columns]",
      "text/html": "<div>\n<style scoped>\n    .dataframe tbody tr th:only-of-type {\n        vertical-align: middle;\n    }\n\n    .dataframe tbody tr th {\n        vertical-align: top;\n    }\n\n    .dataframe thead th {\n        text-align: right;\n    }\n</style>\n<table border=\"1\" class=\"dataframe\">\n  <thead>\n    <tr style=\"text-align: right;\">\n      <th></th>\n      <th>user_id</th>\n      <th>step_id</th>\n      <th>count</th>\n    </tr>\n  </thead>\n  <tbody>\n    <tr>\n      <th>0</th>\n      <td>4</td>\n      <td>32815</td>\n      <td>1</td>\n    </tr>\n    <tr>\n      <th>1</th>\n      <td>6</td>\n      <td>32815</td>\n      <td>1</td>\n    </tr>\n    <tr>\n      <th>2</th>\n      <td>10</td>\n      <td>32815</td>\n      <td>1</td>\n    </tr>\n    <tr>\n      <th>3</th>\n      <td>10</td>\n      <td>33894</td>\n      <td>1</td>\n    </tr>\n    <tr>\n      <th>4</th>\n      <td>12</td>\n      <td>31955</td>\n      <td>1</td>\n    </tr>\n    <tr>\n      <th>...</th>\n      <td>...</td>\n      <td>...</td>\n      <td>...</td>\n    </tr>\n    <tr>\n      <th>62352</th>\n      <td>26799</td>\n      <td>32812</td>\n      <td>1</td>\n    </tr>\n    <tr>\n      <th>62353</th>\n      <td>26799</td>\n      <td>32814</td>\n      <td>1</td>\n    </tr>\n    <tr>\n      <th>62354</th>\n      <td>26799</td>\n      <td>32815</td>\n      <td>1</td>\n    </tr>\n    <tr>\n      <th>62355</th>\n      <td>26799</td>\n      <td>32816</td>\n      <td>1</td>\n    </tr>\n    <tr>\n      <th>62356</th>\n      <td>26799</td>\n      <td>32929</td>\n      <td>1</td>\n    </tr>\n  </tbody>\n</table>\n<p>62357 rows × 3 columns</p>\n</div>"
     },
     "execution_count": 59,
     "metadata": {},
     "output_type": "execute_result"
    }
   ],
   "source": [
    "events_data[events_data['action'] == 'passed']\\\n",
    "    .groupby(['user_id', 'step_id'], as_index=False)\\\n",
    "    .agg({'action':'count'})\\\n",
    "    .rename(columns={'action':'count'})"
   ],
   "metadata": {
    "collapsed": false,
    "pycharm": {
     "name": "#%%\n"
    }
   }
  },
  {
   "cell_type": "code",
   "execution_count": 54,
   "outputs": [
    {
     "data": {
      "text/plain": "       user_id  step_id  count\n0            4    32815      3\n1            6    32815      3\n2           10    32815      3\n3           10    33894      7\n4           12    31955      3\n...        ...      ...    ...\n67529    26799    32814      3\n67530    26799    32815      3\n67531    26799    32816      3\n67532    26799    32929      4\n67533    26800    31983      3\n\n[67534 rows x 3 columns]",
      "text/html": "<div>\n<style scoped>\n    .dataframe tbody tr th:only-of-type {\n        vertical-align: middle;\n    }\n\n    .dataframe tbody tr th {\n        vertical-align: top;\n    }\n\n    .dataframe thead th {\n        text-align: right;\n    }\n</style>\n<table border=\"1\" class=\"dataframe\">\n  <thead>\n    <tr style=\"text-align: right;\">\n      <th></th>\n      <th>user_id</th>\n      <th>step_id</th>\n      <th>count</th>\n    </tr>\n  </thead>\n  <tbody>\n    <tr>\n      <th>0</th>\n      <td>4</td>\n      <td>32815</td>\n      <td>3</td>\n    </tr>\n    <tr>\n      <th>1</th>\n      <td>6</td>\n      <td>32815</td>\n      <td>3</td>\n    </tr>\n    <tr>\n      <th>2</th>\n      <td>10</td>\n      <td>32815</td>\n      <td>3</td>\n    </tr>\n    <tr>\n      <th>3</th>\n      <td>10</td>\n      <td>33894</td>\n      <td>7</td>\n    </tr>\n    <tr>\n      <th>4</th>\n      <td>12</td>\n      <td>31955</td>\n      <td>3</td>\n    </tr>\n    <tr>\n      <th>...</th>\n      <td>...</td>\n      <td>...</td>\n      <td>...</td>\n    </tr>\n    <tr>\n      <th>67529</th>\n      <td>26799</td>\n      <td>32814</td>\n      <td>3</td>\n    </tr>\n    <tr>\n      <th>67530</th>\n      <td>26799</td>\n      <td>32815</td>\n      <td>3</td>\n    </tr>\n    <tr>\n      <th>67531</th>\n      <td>26799</td>\n      <td>32816</td>\n      <td>3</td>\n    </tr>\n    <tr>\n      <th>67532</th>\n      <td>26799</td>\n      <td>32929</td>\n      <td>4</td>\n    </tr>\n    <tr>\n      <th>67533</th>\n      <td>26800</td>\n      <td>31983</td>\n      <td>3</td>\n    </tr>\n  </tbody>\n</table>\n<p>67534 rows × 3 columns</p>\n</div>"
     },
     "execution_count": 54,
     "metadata": {},
     "output_type": "execute_result"
    }
   ],
   "source": [
    "events_data\\\n",
    "    .groupby(['user_id', 'step_id'], as_index=False)\\\n",
    "    .agg({'action':'count'})\\\n",
    "    .rename(columns={'action':'count'})"
   ],
   "metadata": {
    "collapsed": false,
    "pycharm": {
     "name": "#%%\n"
    }
   }
  },
  {
   "cell_type": "code",
   "execution_count": 17,
   "outputs": [
    {
     "data": {
      "text/plain": "<AxesSubplot:xlabel='day'>"
     },
     "execution_count": 17,
     "metadata": {},
     "output_type": "execute_result"
    },
    {
     "data": {
      "text/plain": "<Figure size 648x432 with 1 Axes>",
      "image/png": "[encoded data removed]"
     },
     "metadata": {},
     "output_type": "display_data"
    }
   ],
   "source": [
    "events_data.groupby('day')['user_id'].nunique().plot()"
   ],
   "metadata": {
    "collapsed": false,
    "pycharm": {
     "name": "#%%\n"
    }
   }
  },
  {
   "cell_type": "code",
   "execution_count": 26,
   "outputs": [
    {
     "data": {
      "text/plain": "<AxesSubplot:>"
     },
     "execution_count": 26,
     "metadata": {},
     "output_type": "execute_result"
    },
    {
     "data": {
      "text/plain": "<Figure size 648x432 with 1 Axes>",
      "image/png": "[encoded data removed]"
     },
     "metadata": {},
     "output_type": "display_data"
    }
   ],
   "source": [
    "events_data[['user_id', 'action', 'step_id']]\\\n",
    "    .query('action == \"discovered\"')\\\n",
    "    .pivot_table(\n",
    "        index='user_id',\n",
    "        columns='action',\n",
    "        values='step_id',\n",
    "        aggfunc='count',\n",
    "        fill_value=0\n",
    "    ).reset_index()['discovered'].hist()"
   ],
   "metadata": {
    "collapsed": false,
    "pycharm": {
     "name": "#%%\n"
    }
   }
  },
  {
   "cell_type": "code",
   "execution_count": 28,
   "outputs": [],
   "source": [
    "users_scores = submission_data.pivot_table(\n",
    "    index='user_id',\n",
    "    columns='submission_status',\n",
    "    values='step_id',\n",
    "    aggfunc='count',\n",
    "    fill_value=0\n",
    ").reset_index()"
   ],
   "metadata": {
    "collapsed": false,
    "pycharm": {
     "name": "#%%\n"
    }
   }
  },
  {
   "cell_type": "code",
   "execution_count": 29,
   "outputs": [
    {
     "data": {
      "text/plain": "submission_status  user_id  correct  wrong\n0                       12        1      0\n1                       13       29     36\n2                       15       10     30\n3                       21       24    103\n4                       35        7     35",
      "text/html": "<div>\n<style scoped>\n    .dataframe tbody tr th:only-of-type {\n        vertical-align: middle;\n    }\n\n    .dataframe tbody tr th {\n        vertical-align: top;\n    }\n\n    .dataframe thead th {\n        text-align: right;\n    }\n</style>\n<table border=\"1\" class=\"dataframe\">\n  <thead>\n    <tr style=\"text-align: right;\">\n      <th>submission_status</th>\n      <th>user_id</th>\n      <th>correct</th>\n      <th>wrong</th>\n    </tr>\n  </thead>\n  <tbody>\n    <tr>\n      <th>0</th>\n      <td>12</td>\n      <td>1</td>\n      <td>0</td>\n    </tr>\n    <tr>\n      <th>1</th>\n      <td>13</td>\n      <td>29</td>\n      <td>36</td>\n    </tr>\n    <tr>\n      <th>2</th>\n      <td>15</td>\n      <td>10</td>\n      <td>30</td>\n    </tr>\n    <tr>\n      <th>3</th>\n      <td>21</td>\n      <td>24</td>\n      <td>103</td>\n    </tr>\n    <tr>\n      <th>4</th>\n      <td>35</td>\n      <td>7</td>\n      <td>35</td>\n    </tr>\n  </tbody>\n</table>\n</div>"
     },
     "execution_count": 29,
     "metadata": {},
     "output_type": "execute_result"
    }
   ],
   "source": [
    "users_scores.head()"
   ],
   "metadata": {
    "collapsed": false,
    "pycharm": {
     "name": "#%%\n"
    }
   }
  },
  {
   "cell_type": "code",
   "execution_count": 36,
   "outputs": [],
   "source": [
    "users_scores['correct_ratio'] = users_scores['correct'] / (users_scores['wrong'] + users_scores['correct'])"
   ],
   "metadata": {
    "collapsed": false,
    "pycharm": {
     "name": "#%%\n"
    }
   }
  },
  {
   "cell_type": "code",
   "execution_count": 37,
   "outputs": [
    {
     "data": {
      "text/plain": "submission_status  user_id  correct  wrong  correct_ratio\n0                       12        1      0       1.000000\n1                       13       29     36       0.446154\n2                       15       10     30       0.250000\n3                       21       24    103       0.188976\n4                       35        7     35       0.166667\n...                    ...      ...    ...            ...\n2798                 26775       46    160       0.223301\n2799                 26780       16      7       0.695652\n2800                 26785        3      1       0.750000\n2801                 26796        2      3       0.400000\n2802                 26799        2      0       1.000000\n\n[2803 rows x 4 columns]",
      "text/html": "<div>\n<style scoped>\n    .dataframe tbody tr th:only-of-type {\n        vertical-align: middle;\n    }\n\n    .dataframe tbody tr th {\n        vertical-align: top;\n    }\n\n    .dataframe thead th {\n        text-align: right;\n    }\n</style>\n<table border=\"1\" class=\"dataframe\">\n  <thead>\n    <tr style=\"text-align: right;\">\n      <th>submission_status</th>\n      <th>user_id</th>\n      <th>correct</th>\n      <th>wrong</th>\n      <th>correct_ratio</th>\n    </tr>\n  </thead>\n  <tbody>\n    <tr>\n      <th>0</th>\n      <td>12</td>\n      <td>1</td>\n      <td>0</td>\n      <td>1.000000</td>\n    </tr>\n    <tr>\n      <th>1</th>\n      <td>13</td>\n      <td>29</td>\n      <td>36</td>\n      <td>0.446154</td>\n    </tr>\n    <tr>\n      <th>2</th>\n      <td>15</td>\n      <td>10</td>\n      <td>30</td>\n      <td>0.250000</td>\n    </tr>\n    <tr>\n      <th>3</th>\n      <td>21</td>\n      <td>24</td>\n      <td>103</td>\n      <td>0.188976</td>\n    </tr>\n    <tr>\n      <th>4</th>\n      <td>35</td>\n      <td>7</td>\n      <td>35</td>\n      <td>0.166667</td>\n    </tr>\n    <tr>\n      <th>...</th>\n      <td>...</td>\n      <td>...</td>\n      <td>...</td>\n      <td>...</td>\n    </tr>\n    <tr>\n      <th>2798</th>\n      <td>26775</td>\n      <td>46</td>\n      <td>160</td>\n      <td>0.223301</td>\n    </tr>\n    <tr>\n      <th>2799</th>\n      <td>26780</td>\n      <td>16</td>\n      <td>7</td>\n      <td>0.695652</td>\n    </tr>\n    <tr>\n      <th>2800</th>\n      <td>26785</td>\n      <td>3</td>\n      <td>1</td>\n      <td>0.750000</td>\n    </tr>\n    <tr>\n      <th>2801</th>\n      <td>26796</td>\n      <td>2</td>\n      <td>3</td>\n      <td>0.400000</td>\n    </tr>\n    <tr>\n      <th>2802</th>\n      <td>26799</td>\n      <td>2</td>\n      <td>0</td>\n      <td>1.000000</td>\n    </tr>\n  </tbody>\n</table>\n<p>2803 rows × 4 columns</p>\n</div>"
     },
     "execution_count": 37,
     "metadata": {},
     "output_type": "execute_result"
    }
   ],
   "source": [
    "users_scores"
   ],
   "metadata": {
    "collapsed": false,
    "pycharm": {
     "name": "#%%\n"
    }
   }
  },
  {
   "cell_type": "code",
   "execution_count": 33,
   "outputs": [],
   "source": [],
   "metadata": {
    "collapsed": false,
    "pycharm": {
     "name": "#%%\n"
    }
   }
  },
  {
   "cell_type": "code",
   "execution_count": null,
   "outputs": [],
   "source": [],
   "metadata": {
    "collapsed": false,
    "pycharm": {
     "name": "#%%\n"
    }
   }
  }
 ],
 "metadata": {
  "kernelspec": {
   "display_name": "Python 3",
   "language": "python",
   "name": "python3"
  },
  "language_info": {
   "codemirror_mode": {
    "name": "ipython",
    "version": 2
   },
   "file_extension": ".py",
   "mimetype": "text/x-python",
   "name": "python",
   "nbconvert_exporter": "python",
   "pygments_lexer": "ipython2",
   "version": "2.7.6"
  }
 },
 "nbformat": 4,
 "nbformat_minor": 0
}