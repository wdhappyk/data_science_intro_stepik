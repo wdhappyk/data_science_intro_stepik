{
 "cells": [
  {
   "cell_type": "code",
   "execution_count": 68,
   "outputs": [],
   "source": [
    "import pandas as pd\n",
    "import numpy as np"
   ],
   "metadata": {
    "collapsed": false,
    "pycharm": {
     "name": "#%%\n"
    }
   }
  },
  {
   "cell_type": "code",
   "execution_count": 69,
   "outputs": [],
   "source": [
    "from sklearn.tree import DecisionTreeClassifier\n",
    "from sklearn.metrics import precision_score, recall_score, f1_score\n",
    "from sklearn.model_selection import train_test_split, cross_val_score"
   ],
   "metadata": {
    "collapsed": false,
    "pycharm": {
     "name": "#%%\n"
    }
   }
  },
  {
   "cell_type": "code",
   "execution_count": 70,
   "outputs": [],
   "source": [
    "%matplotlib inline\n",
    "import seaborn as sns"
   ],
   "metadata": {
    "collapsed": false,
    "pycharm": {
     "name": "#%%\n"
    }
   }
  },
  {
   "cell_type": "code",
   "execution_count": 71,
   "outputs": [],
   "source": [
    "songs = pd.read_csv('songs.csv')"
   ],
   "metadata": {
    "collapsed": false,
    "pycharm": {
     "name": "#%%\n"
    }
   }
  },
  {
   "cell_type": "code",
   "execution_count": 72,
   "outputs": [
    {
     "data": {
      "text/plain": "                              song  year          artist    genre  \\\n0                       the-ownerz  2007       gangstarr  Hip-Hop   \n1             dead-sound-of-misery  2006  blind-guardian    Metal   \n2                    modred-s-song  2006  blind-guardian    Metal   \n3                   the-ninth-wave  2015  blind-guardian    Metal   \n4                           skills  2014       gangstarr  Hip-Hop   \n5      werdz-from-the-ghetto-child  2007       gangstarr  Hip-Hop   \n6          givin-a-little-bit-more  2006            abba      Pop   \n7            nina-pretty-ballerina  2006            abba      Pop   \n8           don-t-break-the-circle  2007  blind-guardian    Metal   \n9             the-name-of-the-game  2001            abba      Pop   \n10     who-s-gonna-take-the-weight  2008       gangstarr  Hip-Hop   \n11                           tiger  1977            abba      Pop   \n12                take-it-personal  1992       gangstarr  Hip-Hop   \n13                          2-deep  1992       gangstarr  Hip-Hop   \n14          age-of-false-innocence  2007  blind-guardian    Metal   \n15                follow-the-blind  2006  blind-guardian    Metal   \n16  dame-dame-dame-amor-esta-noche  2007            abba      Pop   \n17        journey-through-the-dark  2006  blind-guardian    Metal   \n18                       otherland  2006  blind-guardian    Metal   \n19                   curse-my-name  2010  blind-guardian    Metal   \n\n                                               lyrics  length  commas  \\\n0   \"One-two..\"\\n\"One-two, shots to the chin.. kno...    1300      24   \n1   It's dark\\nLet's do it now\\nBring in the siren...    1566       0   \n2   I've lost my battle before it starts\\nmy first...     996       1   \n3   As dark night embraces\\nWe are the nation\\nI w...    2868       5   \n4   Skills, skills, skills\\n\"My Microphone\"\\n\"It's...    3351      22   \n5   [Smiley] Aiyyo I got the dimes that I get, I g...    1413      26   \n6   There's a gentleness to everything you do\\nAnd...     714       0   \n7   Every day in the morning on her way to the off...    1263       5   \n8   Don't break the circle\\nDon't break the circle...    1392       3   \n9   I've seen you twice, in a short time\\nOnly a w...    1986      14   \n10  I was raised like a Muslim\\nPrayin' to the eas...    2365      13   \n11  The city is a jungle, you better take care\\nNe...    1216      24   \n12  I never thought that you would crab me\\nUnderm...    1584      13   \n13  I'm 2 deep and yes much too complicated\\nMy li...    2417       4   \n14  Cut off the light\\nTake a look\\nThere's nothin...    1620       6   \n15  Follow the Blind\\nYour journey, your last hope...    1032       9   \n16  El reloj\\nYa marco medianoche\\nY otra vez enco...    1134      23   \n17  Many songs I've written\\nAbout the things I sa...     997       0   \n18  They rule the land\\nThey're in command\\nThey h...    2414       1   \n19  The tenure of kings and their magistrates\\nBy ...    2424       2   \n\n    exclamations  colons  hyphens  \n0              5       0       11  \n1              0       0        0  \n2              0       1        0  \n3              0       0        0  \n4              0       0        3  \n5              0       0        2  \n6              0       0        0  \n7              0       0        1  \n8              0       0        0  \n9              0       0        3  \n10             0       0        0  \n11             0       0        0  \n12             0       0        0  \n13             0       0       10  \n14             0       0        0  \n15             7       0        0  \n16             0       0        0  \n17             0       0        0  \n18             0       0        0  \n19             0       0        0  ",
      "text/html": "<div>\n<style scoped>\n    .dataframe tbody tr th:only-of-type {\n        vertical-align: middle;\n    }\n\n    .dataframe tbody tr th {\n        vertical-align: top;\n    }\n\n    .dataframe thead th {\n        text-align: right;\n    }\n</style>\n<table border=\"1\" class=\"dataframe\">\n  <thead>\n    <tr style=\"text-align: right;\">\n      <th></th>\n      <th>song</th>\n      <th>year</th>\n      <th>artist</th>\n      <th>genre</th>\n      <th>lyrics</th>\n      <th>length</th>\n      <th>commas</th>\n      <th>exclamations</th>\n      <th>colons</th>\n      <th>hyphens</th>\n    </tr>\n  </thead>\n  <tbody>\n    <tr>\n      <th>0</th>\n      <td>the-ownerz</td>\n      <td>2007</td>\n      <td>gangstarr</td>\n      <td>Hip-Hop</td>\n      <td>\"One-two..\"\\n\"One-two, shots to the chin.. kno...</td>\n      <td>1300</td>\n      <td>24</td>\n      <td>5</td>\n      <td>0</td>\n      <td>11</td>\n    </tr>\n    <tr>\n      <th>1</th>\n      <td>dead-sound-of-misery</td>\n      <td>2006</td>\n      <td>blind-guardian</td>\n      <td>Metal</td>\n      <td>It's dark\\nLet's do it now\\nBring in the siren...</td>\n      <td>1566</td>\n      <td>0</td>\n      <td>0</td>\n      <td>0</td>\n      <td>0</td>\n    </tr>\n    <tr>\n      <th>2</th>\n      <td>modred-s-song</td>\n      <td>2006</td>\n      <td>blind-guardian</td>\n      <td>Metal</td>\n      <td>I've lost my battle before it starts\\nmy first...</td>\n      <td>996</td>\n      <td>1</td>\n      <td>0</td>\n      <td>1</td>\n      <td>0</td>\n    </tr>\n    <tr>\n      <th>3</th>\n      <td>the-ninth-wave</td>\n      <td>2015</td>\n      <td>blind-guardian</td>\n      <td>Metal</td>\n      <td>As dark night embraces\\nWe are the nation\\nI w...</td>\n      <td>2868</td>\n      <td>5</td>\n      <td>0</td>\n      <td>0</td>\n      <td>0</td>\n    </tr>\n    <tr>\n      <th>4</th>\n      <td>skills</td>\n      <td>2014</td>\n      <td>gangstarr</td>\n      <td>Hip-Hop</td>\n      <td>Skills, skills, skills\\n\"My Microphone\"\\n\"It's...</td>\n      <td>3351</td>\n      <td>22</td>\n      <td>0</td>\n      <td>0</td>\n      <td>3</td>\n    </tr>\n    <tr>\n      <th>5</th>\n      <td>werdz-from-the-ghetto-child</td>\n      <td>2007</td>\n      <td>gangstarr</td>\n      <td>Hip-Hop</td>\n      <td>[Smiley] Aiyyo I got the dimes that I get, I g...</td>\n      <td>1413</td>\n      <td>26</td>\n      <td>0</td>\n      <td>0</td>\n      <td>2</td>\n    </tr>\n    <tr>\n      <th>6</th>\n      <td>givin-a-little-bit-more</td>\n      <td>2006</td>\n      <td>abba</td>\n      <td>Pop</td>\n      <td>There's a gentleness to everything you do\\nAnd...</td>\n      <td>714</td>\n      <td>0</td>\n      <td>0</td>\n      <td>0</td>\n      <td>0</td>\n    </tr>\n    <tr>\n      <th>7</th>\n      <td>nina-pretty-ballerina</td>\n      <td>2006</td>\n      <td>abba</td>\n      <td>Pop</td>\n      <td>Every day in the morning on her way to the off...</td>\n      <td>1263</td>\n      <td>5</td>\n      <td>0</td>\n      <td>0</td>\n      <td>1</td>\n    </tr>\n    <tr>\n      <th>8</th>\n      <td>don-t-break-the-circle</td>\n      <td>2007</td>\n      <td>blind-guardian</td>\n      <td>Metal</td>\n      <td>Don't break the circle\\nDon't break the circle...</td>\n      <td>1392</td>\n      <td>3</td>\n      <td>0</td>\n      <td>0</td>\n      <td>0</td>\n    </tr>\n    <tr>\n      <th>9</th>\n      <td>the-name-of-the-game</td>\n      <td>2001</td>\n      <td>abba</td>\n      <td>Pop</td>\n      <td>I've seen you twice, in a short time\\nOnly a w...</td>\n      <td>1986</td>\n      <td>14</td>\n      <td>0</td>\n      <td>0</td>\n      <td>3</td>\n    </tr>\n    <tr>\n      <th>10</th>\n      <td>who-s-gonna-take-the-weight</td>\n      <td>2008</td>\n      <td>gangstarr</td>\n      <td>Hip-Hop</td>\n      <td>I was raised like a Muslim\\nPrayin' to the eas...</td>\n      <td>2365</td>\n      <td>13</td>\n      <td>0</td>\n      <td>0</td>\n      <td>0</td>\n    </tr>\n    <tr>\n      <th>11</th>\n      <td>tiger</td>\n      <td>1977</td>\n      <td>abba</td>\n      <td>Pop</td>\n      <td>The city is a jungle, you better take care\\nNe...</td>\n      <td>1216</td>\n      <td>24</td>\n      <td>0</td>\n      <td>0</td>\n      <td>0</td>\n    </tr>\n    <tr>\n      <th>12</th>\n      <td>take-it-personal</td>\n      <td>1992</td>\n      <td>gangstarr</td>\n      <td>Hip-Hop</td>\n      <td>I never thought that you would crab me\\nUnderm...</td>\n      <td>1584</td>\n      <td>13</td>\n      <td>0</td>\n      <td>0</td>\n      <td>0</td>\n    </tr>\n    <tr>\n      <th>13</th>\n      <td>2-deep</td>\n      <td>1992</td>\n      <td>gangstarr</td>\n      <td>Hip-Hop</td>\n      <td>I'm 2 deep and yes much too complicated\\nMy li...</td>\n      <td>2417</td>\n      <td>4</td>\n      <td>0</td>\n      <td>0</td>\n      <td>10</td>\n    </tr>\n    <tr>\n      <th>14</th>\n      <td>age-of-false-innocence</td>\n      <td>2007</td>\n      <td>blind-guardian</td>\n      <td>Metal</td>\n      <td>Cut off the light\\nTake a look\\nThere's nothin...</td>\n      <td>1620</td>\n      <td>6</td>\n      <td>0</td>\n      <td>0</td>\n      <td>0</td>\n    </tr>\n    <tr>\n      <th>15</th>\n      <td>follow-the-blind</td>\n      <td>2006</td>\n      <td>blind-guardian</td>\n      <td>Metal</td>\n      <td>Follow the Blind\\nYour journey, your last hope...</td>\n      <td>1032</td>\n      <td>9</td>\n      <td>7</td>\n      <td>0</td>\n      <td>0</td>\n    </tr>\n    <tr>\n      <th>16</th>\n      <td>dame-dame-dame-amor-esta-noche</td>\n      <td>2007</td>\n      <td>abba</td>\n      <td>Pop</td>\n      <td>El reloj\\nYa marco medianoche\\nY otra vez enco...</td>\n      <td>1134</td>\n      <td>23</td>\n      <td>0</td>\n      <td>0</td>\n      <td>0</td>\n    </tr>\n    <tr>\n      <th>17</th>\n      <td>journey-through-the-dark</td>\n      <td>2006</td>\n      <td>blind-guardian</td>\n      <td>Metal</td>\n      <td>Many songs I've written\\nAbout the things I sa...</td>\n      <td>997</td>\n      <td>0</td>\n      <td>0</td>\n      <td>0</td>\n      <td>0</td>\n    </tr>\n    <tr>\n      <th>18</th>\n      <td>otherland</td>\n      <td>2006</td>\n      <td>blind-guardian</td>\n      <td>Metal</td>\n      <td>They rule the land\\nThey're in command\\nThey h...</td>\n      <td>2414</td>\n      <td>1</td>\n      <td>0</td>\n      <td>0</td>\n      <td>0</td>\n    </tr>\n    <tr>\n      <th>19</th>\n      <td>curse-my-name</td>\n      <td>2010</td>\n      <td>blind-guardian</td>\n      <td>Metal</td>\n      <td>The tenure of kings and their magistrates\\nBy ...</td>\n      <td>2424</td>\n      <td>2</td>\n      <td>0</td>\n      <td>0</td>\n      <td>0</td>\n    </tr>\n  </tbody>\n</table>\n</div>"
     },
     "execution_count": 72,
     "metadata": {},
     "output_type": "execute_result"
    }
   ],
   "source": [
    "songs.head(20)"
   ],
   "metadata": {
    "collapsed": false,
    "pycharm": {
     "name": "#%%\n"
    }
   }
  },
  {
   "cell_type": "code",
   "execution_count": 73,
   "outputs": [],
   "source": [
    "X = songs[['year', 'length', 'commas', 'exclamations', 'colons', 'hyphens']]\n",
    "# X = pd.concat([X, pd.get_dummies(songs.genre)], axis=1)"
   ],
   "metadata": {
    "collapsed": false,
    "pycharm": {
     "name": "#%%\n"
    }
   }
  },
  {
   "cell_type": "code",
   "execution_count": 74,
   "outputs": [
    {
     "data": {
      "text/plain": "   year  length  commas  exclamations  colons  hyphens\n0  2007    1300      24             5       0       11\n1  2006    1566       0             0       0        0\n2  2006     996       1             0       1        0\n3  2015    2868       5             0       0        0\n4  2014    3351      22             0       0        3",
      "text/html": "<div>\n<style scoped>\n    .dataframe tbody tr th:only-of-type {\n        vertical-align: middle;\n    }\n\n    .dataframe tbody tr th {\n        vertical-align: top;\n    }\n\n    .dataframe thead th {\n        text-align: right;\n    }\n</style>\n<table border=\"1\" class=\"dataframe\">\n  <thead>\n    <tr style=\"text-align: right;\">\n      <th></th>\n      <th>year</th>\n      <th>length</th>\n      <th>commas</th>\n      <th>exclamations</th>\n      <th>colons</th>\n      <th>hyphens</th>\n    </tr>\n  </thead>\n  <tbody>\n    <tr>\n      <th>0</th>\n      <td>2007</td>\n      <td>1300</td>\n      <td>24</td>\n      <td>5</td>\n      <td>0</td>\n      <td>11</td>\n    </tr>\n    <tr>\n      <th>1</th>\n      <td>2006</td>\n      <td>1566</td>\n      <td>0</td>\n      <td>0</td>\n      <td>0</td>\n      <td>0</td>\n    </tr>\n    <tr>\n      <th>2</th>\n      <td>2006</td>\n      <td>996</td>\n      <td>1</td>\n      <td>0</td>\n      <td>1</td>\n      <td>0</td>\n    </tr>\n    <tr>\n      <th>3</th>\n      <td>2015</td>\n      <td>2868</td>\n      <td>5</td>\n      <td>0</td>\n      <td>0</td>\n      <td>0</td>\n    </tr>\n    <tr>\n      <th>4</th>\n      <td>2014</td>\n      <td>3351</td>\n      <td>22</td>\n      <td>0</td>\n      <td>0</td>\n      <td>3</td>\n    </tr>\n  </tbody>\n</table>\n</div>"
     },
     "execution_count": 74,
     "metadata": {},
     "output_type": "execute_result"
    }
   ],
   "source": [
    "X.head()"
   ],
   "metadata": {
    "collapsed": false,
    "pycharm": {
     "name": "#%%\n"
    }
   }
  },
  {
   "cell_type": "code",
   "execution_count": 75,
   "outputs": [],
   "source": [
    "y = songs['artist']"
   ],
   "metadata": {
    "collapsed": false,
    "pycharm": {
     "name": "#%%\n"
    }
   }
  },
  {
   "cell_type": "code",
   "execution_count": 76,
   "outputs": [],
   "source": [
    "X_train, X_test, y_train, y_test = train_test_split(X, y, test_size=0.5)"
   ],
   "metadata": {
    "collapsed": false,
    "pycharm": {
     "name": "#%%\n"
    }
   }
  },
  {
   "cell_type": "code",
   "execution_count": 77,
   "outputs": [],
   "source": [
    "clf = DecisionTreeClassifier(criterion='entropy')"
   ],
   "metadata": {
    "collapsed": false,
    "pycharm": {
     "name": "#%%\n"
    }
   }
  },
  {
   "cell_type": "code",
   "execution_count": 78,
   "outputs": [
    {
     "data": {
      "text/plain": "DecisionTreeClassifier(criterion='entropy')"
     },
     "execution_count": 78,
     "metadata": {},
     "output_type": "execute_result"
    }
   ],
   "source": [
    "clf.fit(X_train, y_train)"
   ],
   "metadata": {
    "collapsed": false,
    "pycharm": {
     "name": "#%%\n"
    }
   }
  },
  {
   "cell_type": "code",
   "execution_count": 79,
   "outputs": [
    {
     "data": {
      "text/plain": "1.0"
     },
     "execution_count": 79,
     "metadata": {},
     "output_type": "execute_result"
    }
   ],
   "source": [
    "clf.score(X_train, y_train)"
   ],
   "metadata": {
    "collapsed": false,
    "pycharm": {
     "name": "#%%\n"
    }
   }
  },
  {
   "cell_type": "code",
   "execution_count": 80,
   "outputs": [
    {
     "data": {
      "text/plain": "0.6777777777777778"
     },
     "execution_count": 80,
     "metadata": {},
     "output_type": "execute_result"
    }
   ],
   "source": [
    "clf.score(X_test, y_test)"
   ],
   "metadata": {
    "collapsed": false,
    "pycharm": {
     "name": "#%%\n"
    }
   }
  },
  {
   "cell_type": "code",
   "execution_count": 81,
   "outputs": [],
   "source": [
    "predictions = clf.predict(X_test)"
   ],
   "metadata": {
    "collapsed": false,
    "pycharm": {
     "name": "#%%\n"
    }
   }
  },
  {
   "cell_type": "code",
   "execution_count": 82,
   "outputs": [],
   "source": [
    "precision = precision_score(y_test, predictions, average='micro')"
   ],
   "metadata": {
    "collapsed": false,
    "pycharm": {
     "name": "#%%\n"
    }
   }
  },
  {
   "cell_type": "code",
   "execution_count": 83,
   "outputs": [
    {
     "data": {
      "text/plain": "0.6777777777777778"
     },
     "execution_count": 83,
     "metadata": {},
     "output_type": "execute_result"
    }
   ],
   "source": [
    "precision"
   ],
   "metadata": {
    "collapsed": false,
    "pycharm": {
     "name": "#%%\n"
    }
   }
  },
  {
   "cell_type": "code",
   "execution_count": 84,
   "outputs": [],
   "source": [
    "max_depth_values = range(1,100)"
   ],
   "metadata": {
    "collapsed": false,
    "pycharm": {
     "name": "#%%\n"
    }
   }
  },
  {
   "cell_type": "code",
   "execution_count": 85,
   "outputs": [],
   "source": [
    "results = []"
   ],
   "metadata": {
    "collapsed": false,
    "pycharm": {
     "name": "#%%\n"
    }
   }
  },
  {
   "cell_type": "code",
   "execution_count": 86,
   "outputs": [],
   "source": [
    "for max_depth in max_depth_values:\n",
    "    clf = DecisionTreeClassifier(criterion='entropy', max_depth=max_depth)\n",
    "    clf.fit(X_train, y_train)\n",
    "    train_score = clf.score(X_train, y_train)\n",
    "    test_score = clf.score(X_test, y_test)\n",
    "    mean_cross_val_score = cross_val_score(clf, X_train, y_train, cv=5).mean()\n",
    "    results.append([max_depth, train_score, test_score, mean_cross_val_score])"
   ],
   "metadata": {
    "collapsed": false,
    "pycharm": {
     "name": "#%%\n"
    }
   }
  },
  {
   "cell_type": "code",
   "execution_count": 87,
   "outputs": [],
   "source": [
    "scores = pd.DataFrame(results, columns=['max_depth', 'train_score', 'test_score', 'cross_val_score'])"
   ],
   "metadata": {
    "collapsed": false,
    "pycharm": {
     "name": "#%%\n"
    }
   }
  },
  {
   "cell_type": "code",
   "execution_count": 88,
   "outputs": [
    {
     "data": {
      "text/plain": "   max_depth  train_score  test_score  cross_val_score\n0          1     0.650000    0.583333         0.638889\n1          2     0.727778    0.666667         0.661111\n2          3     0.783333    0.683333         0.722222\n3          4     0.866667    0.733333         0.744444\n4          5     0.922222    0.738889         0.766667",
      "text/html": "<div>\n<style scoped>\n    .dataframe tbody tr th:only-of-type {\n        vertical-align: middle;\n    }\n\n    .dataframe tbody tr th {\n        vertical-align: top;\n    }\n\n    .dataframe thead th {\n        text-align: right;\n    }\n</style>\n<table border=\"1\" class=\"dataframe\">\n  <thead>\n    <tr style=\"text-align: right;\">\n      <th></th>\n      <th>max_depth</th>\n      <th>train_score</th>\n      <th>test_score</th>\n      <th>cross_val_score</th>\n    </tr>\n  </thead>\n  <tbody>\n    <tr>\n      <th>0</th>\n      <td>1</td>\n      <td>0.650000</td>\n      <td>0.583333</td>\n      <td>0.638889</td>\n    </tr>\n    <tr>\n      <th>1</th>\n      <td>2</td>\n      <td>0.727778</td>\n      <td>0.666667</td>\n      <td>0.661111</td>\n    </tr>\n    <tr>\n      <th>2</th>\n      <td>3</td>\n      <td>0.783333</td>\n      <td>0.683333</td>\n      <td>0.722222</td>\n    </tr>\n    <tr>\n      <th>3</th>\n      <td>4</td>\n      <td>0.866667</td>\n      <td>0.733333</td>\n      <td>0.744444</td>\n    </tr>\n    <tr>\n      <th>4</th>\n      <td>5</td>\n      <td>0.922222</td>\n      <td>0.738889</td>\n      <td>0.766667</td>\n    </tr>\n  </tbody>\n</table>\n</div>"
     },
     "execution_count": 88,
     "metadata": {},
     "output_type": "execute_result"
    }
   ],
   "source": [
    "scores.head()"
   ],
   "metadata": {
    "collapsed": false,
    "pycharm": {
     "name": "#%%\n"
    }
   }
  },
  {
   "cell_type": "code",
   "execution_count": 89,
   "outputs": [],
   "source": [
    "scores_data_long = pd.melt(\n",
    "    scores,\n",
    "    id_vars=['max_depth'],\n",
    "    value_vars=['train_score', 'test_score', 'cross_val_score'],\n",
    "    var_name='set_type',\n",
    "    value_name='score'\n",
    ")"
   ],
   "metadata": {
    "collapsed": false,
    "pycharm": {
     "name": "#%%\n"
    }
   }
  },
  {
   "cell_type": "code",
   "execution_count": 90,
   "outputs": [
    {
     "data": {
      "text/plain": "<AxesSubplot:xlabel='max_depth', ylabel='score'>"
     },
     "execution_count": 90,
     "metadata": {},
     "output_type": "execute_result"
    },
    {
     "data": {
      "text/plain": "<Figure size 432x288 with 1 Axes>",
      "image/png": "[encoded data removed]"
     },
     "metadata": {
      "needs_background": "light"
     },
     "output_type": "display_data"
    }
   ],
   "source": [
    "sns.lineplot(data=scores_data_long, x='max_depth', y='score', hue='set_type')"
   ],
   "metadata": {
    "collapsed": false,
    "pycharm": {
     "name": "#%%\n"
    }
   }
  },
  {
   "cell_type": "code",
   "execution_count": 90,
   "outputs": [],
   "source": [],
   "metadata": {
    "collapsed": false,
    "pycharm": {
     "name": "#%%\n"
    }
   }
  }
 ],
 "metadata": {
  "kernelspec": {
   "display_name": "Python 3",
   "language": "python",
   "name": "python3"
  },
  "language_info": {
   "codemirror_mode": {
    "name": "ipython",
    "version": 2
   },
   "file_extension": ".py",
   "mimetype": "text/x-python",
   "name": "python",
   "nbconvert_exporter": "python",
   "pygments_lexer": "ipython2",
   "version": "2.7.6"
  }
 },
 "nbformat": 4,
 "nbformat_minor": 0
}