{
 "cells": [
  {
   "cell_type": "code",
   "execution_count": 43,
   "outputs": [],
   "source": [
    "import pandas as pd\n",
    "import sqlite3 as sql"
   ],
   "metadata": {
    "collapsed": false,
    "pycharm": {
     "name": "#%%\n"
    }
   }
  },
  {
   "cell_type": "code",
   "execution_count": 57,
   "outputs": [],
   "source": [
    "con = sql.connect('event_data.db')"
   ],
   "metadata": {
    "collapsed": false,
    "pycharm": {
     "name": "#%%\n"
    }
   }
  },
  {
   "cell_type": "code",
   "execution_count": 45,
   "outputs": [],
   "source": [
    "data = pd.read_csv('event_data_train.csv.zip')"
   ],
   "metadata": {
    "collapsed": false,
    "pycharm": {
     "name": "#%%\n"
    }
   }
  },
  {
   "cell_type": "code",
   "execution_count": 46,
   "outputs": [
    {
     "data": {
      "text/plain": "(3480703, 4)"
     },
     "execution_count": 46,
     "metadata": {},
     "output_type": "execute_result"
    }
   ],
   "source": [
    "data.shape"
   ],
   "metadata": {
    "collapsed": false,
    "pycharm": {
     "name": "#%%\n"
    }
   }
  },
  {
   "cell_type": "code",
   "execution_count": 47,
   "outputs": [
    {
     "data": {
      "text/plain": "   step_id   timestamp      action  user_id\n0    32815  1434340848      viewed    17632\n1    32815  1434340848      passed    17632\n2    32815  1434340848  discovered    17632\n3    32811  1434340895  discovered    17632\n4    32811  1434340895      viewed    17632",
      "text/html": "<div>\n<style scoped>\n    .dataframe tbody tr th:only-of-type {\n        vertical-align: middle;\n    }\n\n    .dataframe tbody tr th {\n        vertical-align: top;\n    }\n\n    .dataframe thead th {\n        text-align: right;\n    }\n</style>\n<table border=\"1\" class=\"dataframe\">\n  <thead>\n    <tr style=\"text-align: right;\">\n      <th></th>\n      <th>step_id</th>\n      <th>timestamp</th>\n      <th>action</th>\n      <th>user_id</th>\n    </tr>\n  </thead>\n  <tbody>\n    <tr>\n      <th>0</th>\n      <td>32815</td>\n      <td>1434340848</td>\n      <td>viewed</td>\n      <td>17632</td>\n    </tr>\n    <tr>\n      <th>1</th>\n      <td>32815</td>\n      <td>1434340848</td>\n      <td>passed</td>\n      <td>17632</td>\n    </tr>\n    <tr>\n      <th>2</th>\n      <td>32815</td>\n      <td>1434340848</td>\n      <td>discovered</td>\n      <td>17632</td>\n    </tr>\n    <tr>\n      <th>3</th>\n      <td>32811</td>\n      <td>1434340895</td>\n      <td>discovered</td>\n      <td>17632</td>\n    </tr>\n    <tr>\n      <th>4</th>\n      <td>32811</td>\n      <td>1434340895</td>\n      <td>viewed</td>\n      <td>17632</td>\n    </tr>\n  </tbody>\n</table>\n</div>"
     },
     "execution_count": 47,
     "metadata": {},
     "output_type": "execute_result"
    }
   ],
   "source": [
    "data.head()"
   ],
   "metadata": {
    "collapsed": false,
    "pycharm": {
     "name": "#%%\n"
    }
   }
  },
  {
   "cell_type": "code",
   "execution_count": 48,
   "outputs": [],
   "source": [
    "query = 'CREATE TABLE IF NOT EXISTS event (' \\\n",
    "        'id INTEGER PRIMARY KEY,' \\\n",
    "        'step_id INTEGER NOT NULL,' \\\n",
    "        'timestamp INTEGER NOT NULL,' \\\n",
    "        'action TEXT NOT NULL,' \\\n",
    "        'user_id INTEGER NOT NULL' \\\n",
    "        ');'"
   ],
   "metadata": {
    "collapsed": false,
    "pycharm": {
     "name": "#%%\n"
    }
   }
  },
  {
   "cell_type": "code",
   "execution_count": 49,
   "outputs": [],
   "source": [
    "cursor = con.cursor()\n",
    "cursor.execute(query)\n",
    "cursor.close();"
   ],
   "metadata": {
    "collapsed": false,
    "pycharm": {
     "name": "#%%\n"
    }
   }
  },
  {
   "cell_type": "code",
   "execution_count": 50,
   "outputs": [],
   "source": [
    "data.to_sql(name='event', con=con, if_exists='append', index_label='id')"
   ],
   "metadata": {
    "collapsed": false,
    "pycharm": {
     "name": "#%%\n"
    }
   }
  },
  {
   "cell_type": "code",
   "execution_count": 51,
   "outputs": [],
   "source": [
    "pd.read_sql('SELECT * FROM event;', con)"
   ],
   "metadata": {
    "collapsed": false,
    "pycharm": {
     "name": "#%%\n"
    }
   }
  },
  {
   "cell_type": "code",
   "execution_count": null,
   "outputs": [],
   "source": [],
   "metadata": {
    "collapsed": false,
    "pycharm": {
     "name": "#%%\n"
    }
   }
  }
 ],
 "metadata": {
  "kernelspec": {
   "display_name": "Python 3",
   "language": "python",
   "name": "python3"
  },
  "language_info": {
   "codemirror_mode": {
    "name": "ipython",
    "version": 2
   },
   "file_extension": ".py",
   "mimetype": "text/x-python",
   "name": "python",
   "nbconvert_exporter": "python",
   "pygments_lexer": "ipython2",
   "version": "2.7.6"
  }
 },
 "nbformat": 4,
 "nbformat_minor": 0
}